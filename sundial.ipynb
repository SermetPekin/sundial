{
 "cells": [
  {
   "attachments": {},
   "cell_type": "markdown",
   "id": "e44672fa",
   "metadata": {},
   "source": [
    "# Sundial problem setup\n",
    "\n",
    "This notebook contains some setup for the sundial problem in [SymPy](https://www.sympy.org/en/index.html) and [GAlgebra](https://github.com/pygae/galgebra)."
   ]
  },
  {
   "cell_type": "code",
   "execution_count": 1,
   "id": "d2f0d202",
   "metadata": {},
   "outputs": [],
   "source": [
    "import sympy\n",
    "from sympy import sin, cos, tan\n",
    "from sympy.abc import *\n",
    "from galgebra import metric, mv\n",
    "from galgebra.ga import Ga\n",
    "from galgebra.printer import latex\n",
    "from IPython.display import Math\n",
    "\n",
    "# tell sympy to use galgebra printing\n",
    "sympy.init_printing(\n",
    "    latex_printer=latex,\n",
    "    use_latex='mathjax',\n",
    "    omit_function_args=True,\n",
    "    omit_partial_derivative_fraction=True,\n",
    "    )"
   ]
  },
  {
   "attachments": {},
   "cell_type": "markdown",
   "id": "4529f0b2",
   "metadata": {},
   "source": [
    "First, we define the geometric algebra of 3-space and some basis blades from the frame of the \"fixed stars\"\n",
    "\n",
    "![Earth's orientation and orbit](https://raw.githubusercontent.com/russellgoyder/sundial-latex/main/figs/MainArena.svg?token=GHSAT0AAAAAAB73Q3JM6JGFDMRHPPAJKRQ2ZAWFO7Q \"Earth's orientation and orbit.\")."
   ]
  },
  {
   "cell_type": "code",
   "execution_count": 2,
   "id": "f6527879",
   "metadata": {},
   "outputs": [],
   "source": [
    "coords = sympy.symbols('1 2 3', real=True)\n",
    "G3 = Ga('e', g=[1,1,1], coords=coords)\n",
    "\n",
    "(e1, e2, e3) = G3.mv()\n",
    "I = e1^e2^e3"
   ]
  },
  {
   "attachments": {},
   "cell_type": "markdown",
   "id": "f96bf15d",
   "metadata": {},
   "source": [
    "Now, let the tilt of the earth's plane (axis) of rotation be $\\alpha$ and measure the earth's rotation by $\\psi$. Then we can define the Earth frame as follows."
   ]
  },
  {
   "cell_type": "code",
   "execution_count": 3,
   "id": "0b35345e",
   "metadata": {},
   "outputs": [
    {
     "data": {
      "text/latex": [
       "$\\displaystyle \n",
       "            \\begin{align}\n",
       "            f_1 &= \\cos{\\left (\\alpha  \\right )} \\cos{\\left (\\psi  \\right )} \\boldsymbol{e}_{1} + \\sin{\\left (\\psi  \\right )} \\boldsymbol{e}_{2} + \\sin{\\left (\\alpha  \\right )} \\cos{\\left (\\psi  \\right )} \\boldsymbol{e}_{3} \\nonumber \\\\\n",
       "            f_2 &= - \\sin{\\left (\\psi  \\right )} \\cos{\\left (\\alpha  \\right )} \\boldsymbol{e}_{1} + \\cos{\\left (\\psi  \\right )} \\boldsymbol{e}_{2} - \\sin{\\left (\\alpha  \\right )} \\sin{\\left (\\psi  \\right )} \\boldsymbol{e}_{3} \\nonumber \\\\\n",
       "            f_3 &= - \\sin{\\left (\\alpha  \\right )} \\boldsymbol{e}_{1} + \\cos{\\left (\\alpha  \\right )} \\boldsymbol{e}_{3} \\nonumber\n",
       "            \\end{align}\n",
       "            $"
      ],
      "text/plain": [
       "<IPython.core.display.Math object>"
      ]
     },
     "execution_count": 3,
     "metadata": {},
     "output_type": "execute_result"
    }
   ],
   "source": [
    "R_alpha = cos(alpha/2) - (e1^e3) * sin(alpha/2)\n",
    "\n",
    "def rotate(mv, rotor):\n",
    "    return ( rotor * mv * rotor.rev() )\n",
    "\n",
    "e1_prime = rotate(e1, R_alpha).trigsimp()\n",
    "R_psi = (cos(psi/2) - (e1_prime^e2 * sin(psi/2))).trigsimp()\n",
    "\n",
    "f1 = rotate(e1_prime, R_psi).trigsimp().trigsimp()\n",
    "f2 = rotate(e2, R_psi).trigsimp().trigsimp()\n",
    "f3 = rotate(e3, R_alpha).trigsimp().trigsimp()\n",
    "\n",
    "def print_3frame(frame, symbol):\n",
    "    return Math(fr'''\n",
    "            \\begin{{align}}\n",
    "            {symbol}_1 &= {latex(frame[0])} \\nonumber \\\\\n",
    "            {symbol}_2 &= {latex(frame[1])} \\nonumber \\\\\n",
    "            {symbol}_3 &= {latex(frame[2])} \\nonumber\n",
    "            \\end{{align}}\n",
    "            ''')\n",
    "\n",
    "print_3frame((f1,f2,f3), \"f\")"
   ]
  },
  {
   "attachments": {},
   "cell_type": "markdown",
   "id": "d732dc11",
   "metadata": {},
   "source": [
    "Check that this is an orthonormal frame"
   ]
  },
  {
   "cell_type": "code",
   "execution_count": 4,
   "id": "601342d9",
   "metadata": {},
   "outputs": [],
   "source": [
    "result = (e1 ^ e2 ^ e3) - (f1 * f2 * f3)\n",
    "assert result.obj.equals(0)"
   ]
  },
  {
   "attachments": {},
   "cell_type": "markdown",
   "id": "e2b295b8",
   "metadata": {},
   "source": [
    "The equatorial plane should only depend on the tilt of the Earth's axis of spin $\\alpha$, not the angle by which it has rotated relative to the fixed stars $\\psi$."
   ]
  },
  {
   "cell_type": "code",
   "execution_count": 5,
   "id": "d3cdc49a",
   "metadata": {},
   "outputs": [
    {
     "data": {
      "text/latex": [
       "\\begin{equation*} \\cos{\\left (\\alpha  \\right )} \\boldsymbol{e}_{1}\\wedge \\boldsymbol{e}_{2} - \\sin{\\left (\\alpha  \\right )} \\boldsymbol{e}_{2}\\wedge \\boldsymbol{e}_{3} \\end{equation*}"
      ],
      "text/plain": [
       "cos(alpha)*e_1^e_2 - sin(alpha)*e_2^e_3"
      ]
     },
     "execution_count": 5,
     "metadata": {},
     "output_type": "execute_result"
    }
   ],
   "source": [
    "f1^f2"
   ]
  },
  {
   "attachments": {},
   "cell_type": "markdown",
   "id": "2f0a8d79",
   "metadata": {},
   "source": [
    "Define an orthonormal frame embedded in the Earth's surface, with $n_1$ pointing South, $n_2$ pointing East and $n_3$ pointing up.\n",
    "\n",
    "![](https://raw.githubusercontent.com/russellgoyder/sundial-latex/main/figs/SurfaceFrame.svg?token=GHSAT0AAAAAAB73Q3JNXNOAJWYLCUINTVLUZAWF6JQ \"Frame embedded in Earth's surface.\")."
   ]
  },
  {
   "cell_type": "code",
   "execution_count": 6,
   "id": "77377d5e",
   "metadata": {},
   "outputs": [
    {
     "data": {
      "text/latex": [
       "$\\displaystyle \n",
       "            \\begin{align}\n",
       "            n_1 &= \\left ( \\sin{\\left (\\alpha  \\right )} \\sin{\\left (\\theta  \\right )} + \\cos{\\left (\\alpha  \\right )} \\cos{\\left (\\psi  \\right )} \\cos{\\left (\\theta  \\right )}\\right ) \\boldsymbol{e}_{1} + \\sin{\\left (\\psi  \\right )} \\cos{\\left (\\theta  \\right )} \\boldsymbol{e}_{2} + \\left ( \\sin{\\left (\\alpha  \\right )} \\cos{\\left (\\psi  \\right )} \\cos{\\left (\\theta  \\right )} - \\sin{\\left (\\theta  \\right )} \\cos{\\left (\\alpha  \\right )}\\right ) \\boldsymbol{e}_{3} \\nonumber \\\\\n",
       "            n_2 &= - \\sin{\\left (\\psi  \\right )} \\cos{\\left (\\alpha  \\right )} \\boldsymbol{e}_{1} + \\cos{\\left (\\psi  \\right )} \\boldsymbol{e}_{2} - \\sin{\\left (\\alpha  \\right )} \\sin{\\left (\\psi  \\right )} \\boldsymbol{e}_{3} \\nonumber \\\\\n",
       "            n_3 &= \\left ( - \\sin{\\left (\\alpha  \\right )} \\cos{\\left (\\theta  \\right )} + \\sin{\\left (\\theta  \\right )} \\cos{\\left (\\alpha  \\right )} \\cos{\\left (\\psi  \\right )}\\right ) \\boldsymbol{e}_{1} + \\sin{\\left (\\psi  \\right )} \\sin{\\left (\\theta  \\right )} \\boldsymbol{e}_{2} + \\left ( \\sin{\\left (\\alpha  \\right )} \\sin{\\left (\\theta  \\right )} \\cos{\\left (\\psi  \\right )} + \\cos{\\left (\\alpha  \\right )} \\cos{\\left (\\theta  \\right )}\\right ) \\boldsymbol{e}_{3} \\nonumber\n",
       "            \\end{align}\n",
       "            $"
      ],
      "text/plain": [
       "<IPython.core.display.Math object>"
      ]
     },
     "execution_count": 6,
     "metadata": {},
     "output_type": "execute_result"
    }
   ],
   "source": [
    "R_theta = cos(theta/2) - ( (f3^f1) * sin(theta/2) )\n",
    "\n",
    "n1 = rotate(f1, R_theta).trigsimp().trigsimp()\n",
    "n2 = f2\n",
    "\n",
    "# n3 needs a little love\n",
    "raw_n3 = rotate(f3, R_theta).obj.trigsimp()\n",
    "sympy_n3 = sympy.expand(sympy.expand_trig(raw_n3)) # galgebra's Mv doesn't have expand_trig as a method\n",
    "n3 = mv.Mv(sympy_n3, ga=G3)\n",
    "\n",
    "print_3frame((n1,n2,n3), \"n\")"
   ]
  },
  {
   "attachments": {},
   "cell_type": "markdown",
   "id": "741c47db",
   "metadata": {},
   "source": [
    "Earth orbit rotor $R_\\sigma$, and vector parallel to rays of sunshine, $s$."
   ]
  },
  {
   "cell_type": "code",
   "execution_count": 7,
   "id": "b7f08c6f",
   "metadata": {},
   "outputs": [
    {
     "data": {
      "text/latex": [
       "$\\displaystyle \n",
       "        \\begin{equation}\n",
       "            s = \\cos{\\left (\\sigma  \\right )} \\boldsymbol{e}_{1} + \\sin{\\left (\\sigma  \\right )} \\boldsymbol{e}_{2} \\nonumber\n",
       "        \\end{equation}\n",
       "        $"
      ],
      "text/plain": [
       "<IPython.core.display.Math object>"
      ]
     },
     "execution_count": 7,
     "metadata": {},
     "output_type": "execute_result"
    }
   ],
   "source": [
    "R_sigma = cos(sigma/2) - (e1^e2)*sin(sigma/2)\n",
    "s = rotate(e1, R_sigma).trigsimp()\n",
    "\n",
    "def print_eq(lhs : str, rhs : sympy.Symbol):\n",
    "    return Math(fr'''\n",
    "        \\begin{{equation}}\n",
    "            {lhs} = {latex(rhs)} \\nonumber\n",
    "        \\end{{equation}}\n",
    "        ''')\n",
    "\n",
    "print_eq(\"s\", s)"
   ]
  },
  {
   "attachments": {},
   "cell_type": "markdown",
   "id": "4c3ef2b5",
   "metadata": {},
   "source": [
    "Dial face and gnomon. Define an orthnormal frame $u_1, u_2, u_3$ as the unevaluated version of $n_1, n_2, n_3$.\n",
    "\n",
    "![](https://raw.githubusercontent.com/russellgoyder/sundial-latex/main/figs/DialFrame.svg?token=GHSAT0AAAAAAB73Q3JNJN46TIEHP3QCWWGYZAWGADA \"Frame embedded in the sundial's face.\")."
   ]
  },
  {
   "cell_type": "code",
   "execution_count": 8,
   "id": "0a732b1d",
   "metadata": {},
   "outputs": [],
   "source": [
    "G3n = Ga('u', g=[1,1,1], coords=coords)\n",
    "\n",
    "(u1, u2, u3) = G3n.mv()\n",
    "U = u1^u2^u3"
   ]
  },
  {
   "attachments": {},
   "cell_type": "markdown",
   "id": "74ba6ef0",
   "metadata": {},
   "source": [
    "Dial face expressed relative to $u$ basis: $G_u$."
   ]
  },
  {
   "cell_type": "code",
   "execution_count": 9,
   "id": "72a8a6d2",
   "metadata": {},
   "outputs": [
    {
     "data": {
      "text/latex": [
       "$\\displaystyle \n",
       "        \\begin{equation}\n",
       "            G_u = \\cos{\\left (i \\right )} \\boldsymbol{u}_{1}\\wedge \\boldsymbol{u}_{2} + \\sin{\\left (d \\right )} \\sin{\\left (i \\right )} \\boldsymbol{u}_{1}\\wedge \\boldsymbol{u}_{3} - \\sin{\\left (i \\right )} \\cos{\\left (d \\right )} \\boldsymbol{u}_{2}\\wedge \\boldsymbol{u}_{3} \\nonumber\n",
       "        \\end{equation}\n",
       "        $"
      ],
      "text/plain": [
       "<IPython.core.display.Math object>"
      ]
     },
     "execution_count": 9,
     "metadata": {},
     "output_type": "execute_result"
    }
   ],
   "source": [
    "R_i = cos(i/2) - (u1^u3)*sin(i/2)\n",
    "R_d = cos(d/2) - (u1^u2)*sin(d/2)\n",
    "\n",
    "Gu = rotate(rotate(u1^u2, R_i), R_d).trigsimp()\n",
    "print_eq(\"G_u\", Gu)"
   ]
  },
  {
   "attachments": {},
   "cell_type": "markdown",
   "id": "6f8d4b8b",
   "metadata": {},
   "source": [
    "Frame embedded in dial face."
   ]
  },
  {
   "cell_type": "code",
   "execution_count": 10,
   "id": "eb9a2b97",
   "metadata": {},
   "outputs": [
    {
     "data": {
      "text/latex": [
       "$\\displaystyle \n",
       "            \\begin{align}\n",
       "            m_1 &= \\cos{\\left (d \\right )} \\cos{\\left (i \\right )} \\boldsymbol{u}_{1} + \\sin{\\left (d \\right )} \\cos{\\left (i \\right )} \\boldsymbol{u}_{2} + \\sin{\\left (i \\right )} \\boldsymbol{u}_{3} \\nonumber \\\\\n",
       "            m_2 &= - \\sin{\\left (d \\right )} \\boldsymbol{u}_{1} + \\cos{\\left (d \\right )} \\boldsymbol{u}_{2} \\nonumber \\\\\n",
       "            m_3 &= - \\sin{\\left (i \\right )} \\cos{\\left (d \\right )} \\boldsymbol{u}_{1} - \\sin{\\left (d \\right )} \\sin{\\left (i \\right )} \\boldsymbol{u}_{2} + \\cos{\\left (i \\right )} \\boldsymbol{u}_{3} \\nonumber\n",
       "            \\end{align}\n",
       "            $"
      ],
      "text/plain": [
       "<IPython.core.display.Math object>"
      ]
     },
     "execution_count": 10,
     "metadata": {},
     "output_type": "execute_result"
    }
   ],
   "source": [
    "m1 = rotate(rotate(u1, R_i), R_d).trigsimp()\n",
    "m2 = rotate(rotate(u2, R_i), R_d)\n",
    "m3 = rotate(rotate(u3, R_i), R_d).trigsimp()\n",
    "\n",
    "print_3frame((m1,m2,m3), \"m\")"
   ]
  },
  {
   "attachments": {},
   "cell_type": "markdown",
   "id": "9d1d0a92",
   "metadata": {},
   "source": [
    "The gnomon expressed relative to the $u$ frame, $g_u$.\n",
    "\n",
    "![](https://raw.githubusercontent.com/russellgoyder/sundial-latex/main/figs/Gnomon.svg?token=GHSAT0AAAAAAB73Q3JNHJMDP6T55SWPTQFGZAWGBNA \"The gnomon.\").\n"
   ]
  },
  {
   "cell_type": "code",
   "execution_count": 11,
   "id": "499c11c9",
   "metadata": {},
   "outputs": [
    {
     "data": {
      "text/latex": [
       "$\\displaystyle \n",
       "        \\begin{equation}\n",
       "            g_u = - \\sin{\\left (\\iota  \\right )} \\cos{\\left (\\delta  \\right )} \\boldsymbol{u}_{1} - \\sin{\\left (\\delta  \\right )} \\sin{\\left (\\iota  \\right )} \\boldsymbol{u}_{2} + \\cos{\\left (\\iota  \\right )} \\boldsymbol{u}_{3} \\nonumber\n",
       "        \\end{equation}\n",
       "        $"
      ],
      "text/plain": [
       "<IPython.core.display.Math object>"
      ]
     },
     "execution_count": 11,
     "metadata": {},
     "output_type": "execute_result"
    }
   ],
   "source": [
    "R_iota = cos(iota/2) - (u1^u3)*sin(iota/2)\n",
    "R_delta = cos(delta/2) - (u1^u2)*sin(delta/2)\n",
    "\n",
    "gu = rotate(rotate(u3, R_iota), R_delta).trigsimp()\n",
    "print_eq(\"g_u\", gu)"
   ]
  },
  {
   "attachments": {},
   "cell_type": "markdown",
   "id": "6992f145",
   "metadata": {},
   "source": [
    "The meridian plane, $M$."
   ]
  },
  {
   "cell_type": "code",
   "execution_count": 12,
   "id": "f6ce4b87",
   "metadata": {},
   "outputs": [
    {
     "data": {
      "text/latex": [
       "$\\displaystyle \n",
       "        \\begin{equation}\n",
       "            M = \\sin{\\left (\\alpha  \\right )} \\sin{\\left (\\psi  \\right )} \\boldsymbol{e}_{1}\\wedge \\boldsymbol{e}_{2} + \\cos{\\left (\\psi  \\right )} \\boldsymbol{e}_{1}\\wedge \\boldsymbol{e}_{3} + \\sin{\\left (\\psi  \\right )} \\cos{\\left (\\alpha  \\right )} \\boldsymbol{e}_{2}\\wedge \\boldsymbol{e}_{3} \\nonumber\n",
       "        \\end{equation}\n",
       "        $"
      ],
      "text/plain": [
       "<IPython.core.display.Math object>"
      ]
     },
     "execution_count": 12,
     "metadata": {},
     "output_type": "execute_result"
    }
   ],
   "source": [
    "M = (n1^n3).trigsimp()\n",
    "print_eq(\"M\", M)"
   ]
  },
  {
   "attachments": {},
   "cell_type": "markdown",
   "id": "b67cd0b6",
   "metadata": {},
   "source": [
    "The noon line is the intersection of the sunshine vector $s$ and the meridian plane $M$, which occurs where $s \\wedge M$ vanishes."
   ]
  },
  {
   "cell_type": "code",
   "execution_count": 13,
   "id": "b36900d6",
   "metadata": {},
   "outputs": [
    {
     "data": {
      "text/latex": [
       "\\begin{equation*} \\left ( \\sin{\\left (\\psi  \\right )} \\cos{\\left (\\alpha  \\right )} \\cos{\\left (\\sigma  \\right )} - \\sin{\\left (\\sigma  \\right )} \\cos{\\left (\\psi  \\right )}\\right ) \\boldsymbol{e}_{1}\\wedge \\boldsymbol{e}_{2}\\wedge \\boldsymbol{e}_{3} \\end{equation*}"
      ],
      "text/plain": [
       "(sin(psi)*cos(alpha)*cos(sigma) - sin(sigma)*cos(psi))*e_1^e_2^e_3"
      ]
     },
     "execution_count": 13,
     "metadata": {},
     "output_type": "execute_result"
    }
   ],
   "source": [
    "(s^M).trigsimp()"
   ]
  },
  {
   "cell_type": "code",
   "execution_count": 14,
   "id": "413b8592",
   "metadata": {},
   "outputs": [
    {
     "data": {
      "text/latex": [
       "$\\displaystyle \n",
       "        \\begin{equation}\n",
       "            \\tan(\\psi) = \\frac{\\tan{\\left (\\sigma  \\right )}}{\\cos{\\left (\\alpha  \\right )}} \\nonumber\n",
       "        \\end{equation}\n",
       "        $"
      ],
      "text/plain": [
       "<IPython.core.display.Math object>"
      ]
     },
     "execution_count": 14,
     "metadata": {},
     "output_type": "execute_result"
    }
   ],
   "source": [
    "coeff = _.trigsimp().get_coefs(3)[0]\n",
    "soln = sympy.solve(coeff.subs(sin(psi), tan(psi)*cos(psi)), tan(psi))[0]\n",
    "print_eq( r\"\\tan(\\psi)\", soln )"
   ]
  },
  {
   "attachments": {},
   "cell_type": "markdown",
   "id": "999e5254",
   "metadata": {},
   "source": [
    "Gnomon lies in meridian plane when its declination angle $\\delta$ is zero."
   ]
  },
  {
   "cell_type": "code",
   "execution_count": 15,
   "id": "0454833b",
   "metadata": {},
   "outputs": [
    {
     "data": {
      "text/latex": [
       "$\\displaystyle \n",
       "        \\begin{equation}\n",
       "            g_u = - \\sin{\\left (\\iota  \\right )} \\boldsymbol{u}_{1} + \\cos{\\left (\\iota  \\right )} \\boldsymbol{u}_{3} \\nonumber\n",
       "        \\end{equation}\n",
       "        $"
      ],
      "text/plain": [
       "<IPython.core.display.Math object>"
      ]
     },
     "execution_count": 15,
     "metadata": {},
     "output_type": "execute_result"
    }
   ],
   "source": [
    "gu = gu.subs(delta, 0)\n",
    "print_eq(\"g_u\", gu)"
   ]
  },
  {
   "attachments": {},
   "cell_type": "markdown",
   "id": "e22464f0",
   "metadata": {},
   "source": [
    "$S = s \\wedge g$ is the plane containing the sunshine vector and the gnomon."
   ]
  },
  {
   "cell_type": "code",
   "execution_count": 16,
   "id": "07121fea",
   "metadata": {},
   "outputs": [],
   "source": [
    "def _angle_replacements(angles):\n",
    "    # make eg {'s_alpha':sin(alpha), 'c_alpha':cos(alpha)}\n",
    "    replacements = {}\n",
    "    for angle in angles:\n",
    "        replacements[sympy.symbols('s_' + str(angle))] = sin(angle)\n",
    "        replacements[sympy.symbols('c_' + str(angle))] = cos(angle)\n",
    "    return replacements\n",
    "\n",
    "def hide_angles(expr, angles):\n",
    "    for hidden_expr, trig_expr in _angle_replacements(angles).items():\n",
    "        expr = expr.subs(trig_expr, hidden_expr)\n",
    "    return expr\n",
    "\n",
    "def unhide_angles(expr, angles):\n",
    "    for hidden_expr, trig_expr in _angle_replacements(angles).items():\n",
    "        expr = expr.subs(hidden_expr, trig_expr)\n",
    "    return expr"
   ]
  },
  {
   "cell_type": "code",
   "execution_count": 17,
   "id": "b521926b",
   "metadata": {},
   "outputs": [
    {
     "data": {
      "text/latex": [
       "\\begin{equation*}  \\begin{aligned}[t]  & \\left ( \\sin{\\left (\\alpha  \\right )} \\sin{\\left (\\sigma  \\right )} \\cos{\\left (\\iota  - \\theta  \\right )} - \\sin{\\left (\\psi  \\right )} \\sin{\\left (\\iota  - \\theta  \\right )} \\cos{\\left (\\sigma  \\right )} + \\sin{\\left (\\sigma  \\right )} \\sin{\\left (\\iota  - \\theta  \\right )} \\cos{\\left (\\alpha  \\right )} \\cos{\\left (\\psi  \\right )}\\right ) \\boldsymbol{e}_{1}\\wedge \\boldsymbol{e}_{2} \\\\  &  + \\left(- \\sin{\\left (\\alpha  \\right )} \\sin{\\left (\\iota  - \\theta  \\right )} \\cos{\\left (\\psi  \\right )} + \\cos{\\left (\\alpha  \\right )} \\cos{\\left (\\iota  - \\theta  \\right )}\\right) \\cos{\\left (\\sigma  \\right )} \\boldsymbol{e}_{1}\\wedge \\boldsymbol{e}_{3} \\\\  &  + \\left(- \\sin{\\left (\\alpha  \\right )} \\sin{\\left (\\iota  - \\theta  \\right )} \\cos{\\left (\\psi  \\right )} + \\cos{\\left (\\alpha  \\right )} \\cos{\\left (\\iota  - \\theta  \\right )}\\right) \\sin{\\left (\\sigma  \\right )} \\boldsymbol{e}_{2}\\wedge \\boldsymbol{e}_{3}  \\end{aligned}  \\end{equation*}"
      ],
      "text/plain": [
       " (sin(alpha)*sin(sigma)*cos(iota - theta) - sin(psi)*sin(iota - theta)*cos(sigma) + sin(sigma)*sin(iota - theta)*cos(alpha)*cos(psi))*e_1^e_2\n",
       " + (-sin(alpha)*sin(iota - theta)*cos(psi) + cos(alpha)*cos(iota - theta))*cos(sigma)*e_1^e_3\n",
       " + (-sin(alpha)*sin(iota - theta)*cos(psi) + cos(alpha)*cos(iota - theta))*sin(sigma)*e_2^e_3"
      ]
     },
     "execution_count": 17,
     "metadata": {},
     "output_type": "execute_result"
    }
   ],
   "source": [
    "nh = [hide_angles(ni, [alpha, psi, theta]) for ni in (n1, n2, n3)]\n",
    "guh = hide_angles(gu.trigsimp(), [iota])\n",
    "gh = sum([ c*ni for c, ni in zip(guh.get_coefs(1), nh)])\n",
    "sh = hide_angles(s, [sigma])\n",
    "S = unhide_angles(sh^gh, [alpha, psi, theta, iota, sigma])\n",
    "S.Fmt(3)"
   ]
  },
  {
   "attachments": {},
   "cell_type": "markdown",
   "id": "6aeee8aa",
   "metadata": {},
   "source": [
    "Define the solar hour angle $\\mu$ as that between $S$ and the meridian plane $M$."
   ]
  },
  {
   "cell_type": "code",
   "execution_count": 18,
   "id": "e76d1911",
   "metadata": {},
   "outputs": [
    {
     "data": {
      "text/latex": [
       "\\begin{equation*} \\sin{\\left (\\alpha  \\right )} \\sin{\\left (\\iota  - \\theta  \\right )} \\cos{\\left (\\sigma  \\right )} - \\sin{\\left (\\psi  \\right )} \\sin{\\left (\\sigma  \\right )} \\cos{\\left (\\iota  - \\theta  \\right )} - \\cos{\\left (\\alpha  \\right )} \\cos{\\left (\\psi  \\right )} \\cos{\\left (\\sigma  \\right )} \\cos{\\left (\\iota  - \\theta  \\right )} \\end{equation*}"
      ],
      "text/plain": [
       "sin(alpha)*sin(iota - theta)*cos(sigma) - sin(psi)*sin(sigma)*cos(iota - theta) - cos(alpha)*cos(psi)*cos(sigma)*cos(iota - theta)"
      ]
     },
     "execution_count": 18,
     "metadata": {},
     "output_type": "execute_result"
    }
   ],
   "source": [
    "S|M"
   ]
  },
  {
   "cell_type": "code",
   "execution_count": 19,
   "id": "06475931",
   "metadata": {},
   "outputs": [
    {
     "data": {
      "text/latex": [
       "$\\displaystyle \n",
       "        \\begin{equation}\n",
       "            \\cos\\mu = \\left(- \\sin{\\left (\\psi  \\right )} \\sin{\\left (\\sigma  \\right )} - \\cos{\\left (\\alpha  \\right )} \\cos{\\left (\\psi  \\right )} \\cos{\\left (\\sigma  \\right )}\\right) \\cos{\\left (\\iota  - \\theta  \\right )} + \\sin{\\left (\\alpha  \\right )} \\sin{\\left (\\iota  - \\theta  \\right )} \\cos{\\left (\\sigma  \\right )} \\nonumber\n",
       "        \\end{equation}\n",
       "        $"
      ],
      "text/plain": [
       "<IPython.core.display.Math object>"
      ]
     },
     "execution_count": 19,
     "metadata": {},
     "output_type": "execute_result"
    }
   ],
   "source": [
    "c_mu = sympy.collect(sympy.trigsimp(_.obj), cos(iota-theta))\n",
    "print_eq(r\"\\cos\\mu\", c_mu)"
   ]
  }
 ],
 "metadata": {
  "kernelspec": {
   "display_name": "venv",
   "language": "python",
   "name": "python3"
  },
  "language_info": {
   "codemirror_mode": {
    "name": "ipython",
    "version": 3
   },
   "file_extension": ".py",
   "mimetype": "text/x-python",
   "name": "python",
   "nbconvert_exporter": "python",
   "pygments_lexer": "ipython3",
   "version": "3.9.6"
  }
 },
 "nbformat": 4,
 "nbformat_minor": 5
}
