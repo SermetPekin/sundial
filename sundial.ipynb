{
 "cells": [
  {
   "attachments": {},
   "cell_type": "markdown",
   "id": "e44672fa",
   "metadata": {},
   "source": [
    "# The Sundial Problem from a New Angle\n",
    "\n",
    "This notebook accompanies my [sundial paper](https://russellgoyder.github.io/sundial-latex/) by the same name. I originally used [Maple](https://www.maplesoft.com/) for the calculations, but decided to reproduce them here to make the analysis more accessible, and as away to learn [SymPy](https://www.sympy.org/en/index.html) and [GAlgebra](https://github.com/pygae/galgebra).\n",
    "\n",
    "I haven't reproduced the orbit analysis, equation of time or plots of the shadow tip yet, but plan to add them in the future. For now, however, all the main results are reproduced below."
   ]
  },
  {
   "cell_type": "code",
   "execution_count": 1,
   "id": "d2f0d202",
   "metadata": {},
   "outputs": [],
   "source": [
    "import sympy as sp\n",
    "from sympy import sin, cos, tan\n",
    "from sympy.abc import *\n",
    "from galgebra import metric, mv\n",
    "from galgebra.ga import Ga\n",
    "from galgebra.printer import latex\n",
    "from IPython.display import Math\n",
    "\n",
    "# tell sympy to use galgebra printing\n",
    "sp.init_printing(\n",
    "    latex_printer=latex,\n",
    "    use_latex='mathjax',\n",
    "    omit_function_args=True,\n",
    "    omit_partial_derivative_fraction=True,\n",
    "    )"
   ]
  },
  {
   "attachments": {},
   "cell_type": "markdown",
   "id": "4529f0b2",
   "metadata": {},
   "source": [
    "## Setup and Definitions\n",
    "\n",
    "### Fixed Stars Frame\n",
    "\n",
    "First, we define the geometric algebra of 3-space and some basis blades from the frame of the \"fixed stars\"\n",
    "\n",
    "![Earth's orientation and orbit](https://raw.githubusercontent.com/russellgoyder/sundial-latex/main/figs/MainArena.png?token=GHSAT0AAAAAAB73Q3JM6JGFDMRHPPAJKRQ2ZAWFO7Q \"Earth's orientation and orbit.\")."
   ]
  },
  {
   "cell_type": "code",
   "execution_count": 2,
   "id": "f6527879",
   "metadata": {},
   "outputs": [],
   "source": [
    "coords = sp.symbols('1 2 3', real=True)\n",
    "G3 = Ga('e', g=[1,1,1], coords=coords)\n",
    "\n",
    "(e1, e2, e3) = G3.mv()\n",
    "I = e1^e2^e3"
   ]
  },
  {
   "attachments": {},
   "cell_type": "markdown",
   "id": "f96bf15d",
   "metadata": {},
   "source": [
    "### Earth Frame\n",
    "\n",
    "Now, let the tilt of the earth's plane (axis) of rotation be $\\alpha$ and measure the earth's rotation by $\\psi$. Then we can define the Earth frame as follows."
   ]
  },
  {
   "cell_type": "code",
   "execution_count": 3,
   "id": "0b35345e",
   "metadata": {},
   "outputs": [
    {
     "data": {
      "text/latex": [
       "$\\displaystyle \n",
       "            \\begin{align}\n",
       "            f_1 &= \\cos{\\left (\\alpha  \\right )} \\cos{\\left (\\psi  \\right )} \\boldsymbol{e}_{1} + \\sin{\\left (\\psi  \\right )} \\boldsymbol{e}_{2} + \\sin{\\left (\\alpha  \\right )} \\cos{\\left (\\psi  \\right )} \\boldsymbol{e}_{3} \\nonumber \\\\\n",
       "            f_2 &= - \\sin{\\left (\\psi  \\right )} \\cos{\\left (\\alpha  \\right )} \\boldsymbol{e}_{1} + \\cos{\\left (\\psi  \\right )} \\boldsymbol{e}_{2} - \\sin{\\left (\\alpha  \\right )} \\sin{\\left (\\psi  \\right )} \\boldsymbol{e}_{3} \\nonumber \\\\\n",
       "            f_3 &= - \\sin{\\left (\\alpha  \\right )} \\boldsymbol{e}_{1} + \\cos{\\left (\\alpha  \\right )} \\boldsymbol{e}_{3} \\nonumber\n",
       "            \\end{align}\n",
       "            $"
      ],
      "text/plain": [
       "<IPython.core.display.Math object>"
      ]
     },
     "execution_count": 3,
     "metadata": {},
     "output_type": "execute_result"
    }
   ],
   "source": [
    "R_alpha = cos(alpha/2) - (e1^e3) * sin(alpha/2)\n",
    "\n",
    "def rotate(mv, rotor):\n",
    "    return ( rotor * mv * rotor.rev() )\n",
    "\n",
    "e1_prime = rotate(e1, R_alpha).trigsimp()\n",
    "R_psi = (cos(psi/2) - (e1_prime^e2 * sin(psi/2))).trigsimp()\n",
    "\n",
    "f1 = rotate(e1_prime, R_psi).trigsimp().trigsimp()\n",
    "f2 = rotate(e2, R_psi).trigsimp().trigsimp()\n",
    "f3 = rotate(e3, R_alpha).trigsimp().trigsimp()\n",
    "\n",
    "def print_3frame(frame, symbol):\n",
    "    return Math(fr'''\n",
    "            \\begin{{align}}\n",
    "            {symbol}_1 &= {latex(frame[0])} \\nonumber \\\\\n",
    "            {symbol}_2 &= {latex(frame[1])} \\nonumber \\\\\n",
    "            {symbol}_3 &= {latex(frame[2])} \\nonumber\n",
    "            \\end{{align}}\n",
    "            ''')\n",
    "\n",
    "print_3frame((f1,f2,f3), \"f\")"
   ]
  },
  {
   "attachments": {},
   "cell_type": "markdown",
   "id": "d732dc11",
   "metadata": {},
   "source": [
    "Check that this is an orthonormal frame"
   ]
  },
  {
   "cell_type": "code",
   "execution_count": 4,
   "id": "601342d9",
   "metadata": {},
   "outputs": [],
   "source": [
    "result = (e1 ^ e2 ^ e3) - (f1 * f2 * f3)\n",
    "assert result.obj.equals(0)"
   ]
  },
  {
   "attachments": {},
   "cell_type": "markdown",
   "id": "e2b295b8",
   "metadata": {},
   "source": [
    "The equatorial plane should only depend on the tilt of the Earth's axis of spin $\\alpha$, not the angle by which it has rotated relative to the fixed stars $\\psi$."
   ]
  },
  {
   "cell_type": "code",
   "execution_count": 5,
   "id": "d3cdc49a",
   "metadata": {},
   "outputs": [
    {
     "data": {
      "text/latex": [
       "\\begin{equation*} \\cos{\\left (\\alpha  \\right )} \\boldsymbol{e}_{1}\\wedge \\boldsymbol{e}_{2} - \\sin{\\left (\\alpha  \\right )} \\boldsymbol{e}_{2}\\wedge \\boldsymbol{e}_{3} \\end{equation*}"
      ],
      "text/plain": [
       "cos(alpha)*e_1^e_2 - sin(alpha)*e_2^e_3"
      ]
     },
     "execution_count": 5,
     "metadata": {},
     "output_type": "execute_result"
    }
   ],
   "source": [
    "f1^f2"
   ]
  },
  {
   "attachments": {},
   "cell_type": "markdown",
   "id": "2f0a8d79",
   "metadata": {},
   "source": [
    "### Surface Frame\n",
    "\n",
    "Define an orthonormal frame embedded in the Earth's surface, with $n_1$ pointing South, $n_2$ pointing East and $n_3$ pointing up.\n",
    "\n",
    "![](https://raw.githubusercontent.com/russellgoyder/sundial-latex/main/figs/SurfaceFrame.png?token=GHSAT0AAAAAAB73Q3JNXNOAJWYLCUINTVLUZAWF6JQ \"Frame embedded in Earth's surface.\").\n",
    "\n",
    "<!-- ![](https://raw.githubusercontent.com/russellgoyder/sundial-latex/main/figs/SurfaceFrame.svg?token=GHSAT0AAAAAAB73Q3JNXNOAJWYLCUINTVLUZAWF6JQ \"Frame embedded in Earth's surface.\"). -->"
   ]
  },
  {
   "cell_type": "code",
   "execution_count": 6,
   "id": "77377d5e",
   "metadata": {},
   "outputs": [
    {
     "data": {
      "text/latex": [
       "$\\displaystyle \n",
       "            \\begin{align}\n",
       "            n_1 &= \\left ( \\sin{\\left (\\alpha  \\right )} \\sin{\\left (\\theta  \\right )} + \\cos{\\left (\\alpha  \\right )} \\cos{\\left (\\psi  \\right )} \\cos{\\left (\\theta  \\right )}\\right ) \\boldsymbol{e}_{1} + \\sin{\\left (\\psi  \\right )} \\cos{\\left (\\theta  \\right )} \\boldsymbol{e}_{2} + \\left ( \\sin{\\left (\\alpha  \\right )} \\cos{\\left (\\psi  \\right )} \\cos{\\left (\\theta  \\right )} - \\sin{\\left (\\theta  \\right )} \\cos{\\left (\\alpha  \\right )}\\right ) \\boldsymbol{e}_{3} \\nonumber \\\\\n",
       "            n_2 &= - \\sin{\\left (\\psi  \\right )} \\cos{\\left (\\alpha  \\right )} \\boldsymbol{e}_{1} + \\cos{\\left (\\psi  \\right )} \\boldsymbol{e}_{2} - \\sin{\\left (\\alpha  \\right )} \\sin{\\left (\\psi  \\right )} \\boldsymbol{e}_{3} \\nonumber \\\\\n",
       "            n_3 &= \\left ( - \\sin{\\left (\\alpha  \\right )} \\cos{\\left (\\theta  \\right )} + \\sin{\\left (\\theta  \\right )} \\cos{\\left (\\alpha  \\right )} \\cos{\\left (\\psi  \\right )}\\right ) \\boldsymbol{e}_{1} + \\sin{\\left (\\psi  \\right )} \\sin{\\left (\\theta  \\right )} \\boldsymbol{e}_{2} + \\left ( \\sin{\\left (\\alpha  \\right )} \\sin{\\left (\\theta  \\right )} \\cos{\\left (\\psi  \\right )} + \\cos{\\left (\\alpha  \\right )} \\cos{\\left (\\theta  \\right )}\\right ) \\boldsymbol{e}_{3} \\nonumber\n",
       "            \\end{align}\n",
       "            $"
      ],
      "text/plain": [
       "<IPython.core.display.Math object>"
      ]
     },
     "execution_count": 6,
     "metadata": {},
     "output_type": "execute_result"
    }
   ],
   "source": [
    "R_theta = cos(theta/2) - ( (f3^f1) * sin(theta/2) )\n",
    "\n",
    "n1 = rotate(f1, R_theta).trigsimp().trigsimp()\n",
    "n2 = f2\n",
    "\n",
    "# n3 needs a little love\n",
    "raw_n3 = rotate(f3, R_theta).obj.trigsimp()\n",
    "sympy_n3 = sp.expand(sp.expand_trig(raw_n3)) # galgebra's Mv doesn't have expand_trig as a method\n",
    "n3 = mv.Mv(sympy_n3, ga=G3)\n",
    "\n",
    "print_3frame((n1,n2,n3), \"n\")"
   ]
  },
  {
   "cell_type": "markdown",
   "id": "a4c0650a",
   "metadata": {},
   "source": [
    "Check that this basis is orthnormal. Geometric product of the $\\{n_i\\}$ should give the pseudoscalar $I = e_1 \\wedge e_2 \\wedge e_3$"
   ]
  },
  {
   "cell_type": "code",
   "execution_count": 7,
   "id": "c5323abf",
   "metadata": {},
   "outputs": [
    {
     "data": {
      "text/latex": [
       "\\begin{equation*}  \\boldsymbol{e}_{1}\\wedge \\boldsymbol{e}_{2}\\wedge \\boldsymbol{e}_{3} \\end{equation*}"
      ],
      "text/plain": [
       "e_1^e_2^e_3"
      ]
     },
     "execution_count": 7,
     "metadata": {},
     "output_type": "execute_result"
    }
   ],
   "source": [
    "(n1*n2*n3).trigsimp()\n"
   ]
  },
  {
   "attachments": {},
   "cell_type": "markdown",
   "id": "741c47db",
   "metadata": {},
   "source": [
    "### Orbit Rotor and Meridian Plane\n",
    "\n",
    "Earth orbit rotor $R_\\sigma$, and vector parallel to rays of sunshine, $s$."
   ]
  },
  {
   "cell_type": "code",
   "execution_count": 8,
   "id": "b7f08c6f",
   "metadata": {},
   "outputs": [
    {
     "data": {
      "text/latex": [
       "\\begin{equation*} s = \\cos{\\left (\\sigma  \\right )} \\boldsymbol{e}_{1} + \\sin{\\left (\\sigma  \\right )} \\boldsymbol{e}_{2} \\end{equation*}"
      ],
      "text/plain": [
       "s = cos(sigma)*e_1 + sin(sigma)*e_2"
      ]
     },
     "execution_count": 8,
     "metadata": {},
     "output_type": "execute_result"
    }
   ],
   "source": [
    "R_sigma = cos(sigma/2) - (e1^e2)*sin(sigma/2)\n",
    "s = rotate(e1, R_sigma).trigsimp()\n",
    "\n",
    "def print_eq(lhs : str, rhs : sp.Symbol):\n",
    "    return Math(fr'''\n",
    "        \\begin{{equation}}\n",
    "            {lhs} = {latex(rhs)} \\nonumber\n",
    "        \\end{{equation}}\n",
    "        ''')\n",
    "\n",
    "s.Fmt(1, \"s\")"
   ]
  },
  {
   "attachments": {},
   "cell_type": "markdown",
   "id": "6992f145",
   "metadata": {},
   "source": [
    "The meridian plane, $M$."
   ]
  },
  {
   "cell_type": "code",
   "execution_count": 9,
   "id": "f6ce4b87",
   "metadata": {},
   "outputs": [
    {
     "data": {
      "text/latex": [
       "\\begin{equation*} M = \\sin{\\left (\\alpha  \\right )} \\sin{\\left (\\psi  \\right )} \\boldsymbol{e}_{1}\\wedge \\boldsymbol{e}_{2} + \\cos{\\left (\\psi  \\right )} \\boldsymbol{e}_{1}\\wedge \\boldsymbol{e}_{3} + \\sin{\\left (\\psi  \\right )} \\cos{\\left (\\alpha  \\right )} \\boldsymbol{e}_{2}\\wedge \\boldsymbol{e}_{3} \\end{equation*}"
      ],
      "text/plain": [
       "M = sin(alpha)*sin(psi)*e_1^e_2 + cos(psi)*e_1^e_3 + sin(psi)*cos(alpha)*e_2^e_3"
      ]
     },
     "execution_count": 9,
     "metadata": {},
     "output_type": "execute_result"
    }
   ],
   "source": [
    "M = (n1^n3).trigsimp()\n",
    "M.Fmt(1, \"M\")"
   ]
  },
  {
   "attachments": {},
   "cell_type": "markdown",
   "id": "b67cd0b6",
   "metadata": {},
   "source": [
    "The noon line is the intersection of the sunshine vector $s$ and the meridian plane $M$, which occurs where $s \\wedge M$ vanishes."
   ]
  },
  {
   "cell_type": "code",
   "execution_count": 10,
   "id": "b36900d6",
   "metadata": {},
   "outputs": [
    {
     "data": {
      "text/latex": [
       "\\begin{equation*} \\left ( \\sin{\\left (\\psi  \\right )} \\cos{\\left (\\alpha  \\right )} \\cos{\\left (\\sigma  \\right )} - \\sin{\\left (\\sigma  \\right )} \\cos{\\left (\\psi  \\right )}\\right ) \\boldsymbol{e}_{1}\\wedge \\boldsymbol{e}_{2}\\wedge \\boldsymbol{e}_{3} \\end{equation*}"
      ],
      "text/plain": [
       "(sin(psi)*cos(alpha)*cos(sigma) - sin(sigma)*cos(psi))*e_1^e_2^e_3"
      ]
     },
     "execution_count": 10,
     "metadata": {},
     "output_type": "execute_result"
    }
   ],
   "source": [
    "(s^M).trigsimp()"
   ]
  },
  {
   "cell_type": "code",
   "execution_count": 11,
   "id": "413b8592",
   "metadata": {},
   "outputs": [
    {
     "data": {
      "text/latex": [
       "$\\displaystyle \n",
       "        \\begin{equation}\n",
       "            \\tan(\\psi) = \\frac{\\tan{\\left (\\sigma  \\right )}}{\\cos{\\left (\\alpha  \\right )}} \\nonumber\n",
       "        \\end{equation}\n",
       "        $"
      ],
      "text/plain": [
       "<IPython.core.display.Math object>"
      ]
     },
     "execution_count": 11,
     "metadata": {},
     "output_type": "execute_result"
    }
   ],
   "source": [
    "coeff = _.trigsimp().get_coefs(3)[0]\n",
    "soln = sp.solve(coeff.subs(sin(psi), tan(psi)*cos(psi)), tan(psi))[0]\n",
    "print_eq( r\"\\tan(\\psi)\", soln )"
   ]
  },
  {
   "attachments": {},
   "cell_type": "markdown",
   "id": "4c3ef2b5",
   "metadata": {},
   "source": [
    "### Dial face and gnomon\n",
    "\n",
    "Define an orthnormal frame $u_1, u_2, u_3$ as the unevaluated version of $n_1, n_2, n_3$.\n",
    "\n",
    "![](https://raw.githubusercontent.com/russellgoyder/sundial-latex/main/figs/DialFrame.png?token=GHSAT0AAAAAAB73Q3JNJN46TIEHP3QCWWGYZAWGADA \"Frame embedded in the sundial's face.\").\n"
   ]
  },
  {
   "cell_type": "code",
   "execution_count": 12,
   "id": "0a732b1d",
   "metadata": {},
   "outputs": [
    {
     "data": {
      "text/latex": [
       "\\begin{equation*}  \\boldsymbol{u}_{1}\\wedge \\boldsymbol{u}_{2}\\wedge \\boldsymbol{u}_{3} \\end{equation*}"
      ],
      "text/plain": [
       "u_1^u_2^u_3"
      ]
     },
     "execution_count": 12,
     "metadata": {},
     "output_type": "execute_result"
    }
   ],
   "source": [
    "G3u = Ga('u', g=[1,1,1], coords=coords)\n",
    "\n",
    "(u1, u2, u3) = G3u.mv()\n",
    "U = u1^u2^u3\n",
    "U"
   ]
  },
  {
   "attachments": {},
   "cell_type": "markdown",
   "id": "74ba6ef0",
   "metadata": {},
   "source": [
    "Dial face expressed relative to $u$ basis: $G_u$."
   ]
  },
  {
   "cell_type": "code",
   "execution_count": 13,
   "id": "72a8a6d2",
   "metadata": {},
   "outputs": [
    {
     "data": {
      "text/latex": [
       "\\begin{equation*} G_u = \\cos{\\left (i \\right )} \\boldsymbol{u}_{1}\\wedge \\boldsymbol{u}_{2} + \\sin{\\left (d \\right )} \\sin{\\left (i \\right )} \\boldsymbol{u}_{1}\\wedge \\boldsymbol{u}_{3} - \\sin{\\left (i \\right )} \\cos{\\left (d \\right )} \\boldsymbol{u}_{2}\\wedge \\boldsymbol{u}_{3} \\end{equation*}"
      ],
      "text/plain": [
       "G_u = cos(i)*u_1^u_2 + sin(d)*sin(i)*u_1^u_3 - sin(i)*cos(d)*u_2^u_3"
      ]
     },
     "execution_count": 13,
     "metadata": {},
     "output_type": "execute_result"
    }
   ],
   "source": [
    "R_i = cos(i/2) - (u1^u3)*sin(i/2)\n",
    "R_d = cos(d/2) - (u1^u2)*sin(d/2)\n",
    "\n",
    "Gu = rotate(rotate(u1^u2, R_i), R_d).trigsimp()\n",
    "Gu.Fmt(1, \"G_u\")"
   ]
  },
  {
   "attachments": {},
   "cell_type": "markdown",
   "id": "6f8d4b8b",
   "metadata": {},
   "source": [
    "Frame embedded in dial face."
   ]
  },
  {
   "cell_type": "code",
   "execution_count": 14,
   "id": "eb9a2b97",
   "metadata": {},
   "outputs": [
    {
     "data": {
      "text/latex": [
       "$\\displaystyle \n",
       "            \\begin{align}\n",
       "            m_1 &= \\cos{\\left (d \\right )} \\cos{\\left (i \\right )} \\boldsymbol{u}_{1} + \\sin{\\left (d \\right )} \\cos{\\left (i \\right )} \\boldsymbol{u}_{2} + \\sin{\\left (i \\right )} \\boldsymbol{u}_{3} \\nonumber \\\\\n",
       "            m_2 &= - \\sin{\\left (d \\right )} \\boldsymbol{u}_{1} + \\cos{\\left (d \\right )} \\boldsymbol{u}_{2} \\nonumber \\\\\n",
       "            m_3 &= - \\sin{\\left (i \\right )} \\cos{\\left (d \\right )} \\boldsymbol{u}_{1} - \\sin{\\left (d \\right )} \\sin{\\left (i \\right )} \\boldsymbol{u}_{2} + \\cos{\\left (i \\right )} \\boldsymbol{u}_{3} \\nonumber\n",
       "            \\end{align}\n",
       "            $"
      ],
      "text/plain": [
       "<IPython.core.display.Math object>"
      ]
     },
     "execution_count": 14,
     "metadata": {},
     "output_type": "execute_result"
    }
   ],
   "source": [
    "m1 = rotate(rotate(u1, R_i), R_d).trigsimp()\n",
    "m2 = rotate(rotate(u2, R_i), R_d)\n",
    "m3 = rotate(rotate(u3, R_i), R_d).trigsimp()\n",
    "\n",
    "print_3frame((m1,m2,m3), \"m\")"
   ]
  },
  {
   "attachments": {},
   "cell_type": "markdown",
   "id": "9d1d0a92",
   "metadata": {},
   "source": [
    "The gnomon expressed relative to the $u$ frame, $g_u$.\n",
    "\n",
    "![](https://raw.githubusercontent.com/russellgoyder/sundial-latex/main/figs/Gnomon.png?token=GHSAT0AAAAAAB73Q3JNHJMDP6T55SWPTQFGZAWGBNA \"The gnomon.\").\n"
   ]
  },
  {
   "cell_type": "code",
   "execution_count": 15,
   "id": "499c11c9",
   "metadata": {},
   "outputs": [
    {
     "data": {
      "text/latex": [
       "$\\displaystyle \n",
       "        \\begin{equation}\n",
       "            g_u = - \\sin{\\left (\\iota  \\right )} \\left(\\sin{\\left (\\delta  \\right )} \\boldsymbol{u}_{2} + \\cos{\\left (\\delta  \\right )} \\boldsymbol{u}_{1}\\right) + \\cos{\\left (\\iota  \\right )} \\boldsymbol{u}_{3} \\nonumber\n",
       "        \\end{equation}\n",
       "        $"
      ],
      "text/plain": [
       "<IPython.core.display.Math object>"
      ]
     },
     "execution_count": 15,
     "metadata": {},
     "output_type": "execute_result"
    }
   ],
   "source": [
    "R_iota = cos(iota/2) - (u1^u3)*sin(iota/2)\n",
    "R_delta = cos(delta/2) - (u1^u2)*sin(delta/2)\n",
    "\n",
    "gu = rotate(rotate(u3, R_iota), R_delta).trigsimp()\n",
    "\n",
    "# extra manipulation to display exactly as in paper\n",
    "print_eq(\"g_u\", sp.collect(sp.trigsimp(gu.obj), -sin(iota)))"
   ]
  },
  {
   "cell_type": "markdown",
   "id": "eaddd2a6",
   "metadata": {},
   "source": [
    "Projected onto the fixed-stars basis, the gnomon is"
   ]
  },
  {
   "cell_type": "code",
   "execution_count": 16,
   "id": "d50b3c43",
   "metadata": {},
   "outputs": [
    {
     "data": {
      "text/latex": [
       "\\begin{equation*} g =  \\begin{aligned}[t]  & \\left ( - \\sin{\\left (\\alpha  \\right )} \\sin{\\left (\\iota  \\right )} \\sin{\\left (\\theta  \\right )} \\cos{\\left (\\delta  \\right )} - \\sin{\\left (\\alpha  \\right )} \\cos{\\left (\\iota  \\right )} \\cos{\\left (\\theta  \\right )} + \\sin{\\left (\\delta  \\right )} \\sin{\\left (\\iota  \\right )} \\sin{\\left (\\psi  \\right )} \\cos{\\left (\\alpha  \\right )} - \\sin{\\left (\\iota  \\right )} \\cos{\\left (\\alpha  \\right )} \\cos{\\left (\\delta  \\right )} \\cos{\\left (\\psi  \\right )} \\cos{\\left (\\theta  \\right )} + \\sin{\\left (\\theta  \\right )} \\cos{\\left (\\alpha  \\right )} \\cos{\\left (\\iota  \\right )} \\cos{\\left (\\psi  \\right )}\\right ) \\boldsymbol{e}_{1} \\\\  &  + \\left ( - \\sin{\\left (\\delta  \\right )} \\sin{\\left (\\iota  \\right )} \\cos{\\left (\\psi  \\right )} - \\sin{\\left (\\iota  \\right )} \\sin{\\left (\\psi  \\right )} \\cos{\\left (\\delta  \\right )} \\cos{\\left (\\theta  \\right )} + \\sin{\\left (\\psi  \\right )} \\sin{\\left (\\theta  \\right )} \\cos{\\left (\\iota  \\right )}\\right ) \\boldsymbol{e}_{2} \\\\  &  + \\left ( \\sin{\\left (\\alpha  \\right )} \\sin{\\left (\\delta  \\right )} \\sin{\\left (\\iota  \\right )} \\sin{\\left (\\psi  \\right )} - \\sin{\\left (\\alpha  \\right )} \\sin{\\left (\\iota  \\right )} \\cos{\\left (\\delta  \\right )} \\cos{\\left (\\psi  \\right )} \\cos{\\left (\\theta  \\right )} + \\sin{\\left (\\alpha  \\right )} \\sin{\\left (\\theta  \\right )} \\cos{\\left (\\iota  \\right )} \\cos{\\left (\\psi  \\right )} + \\sin{\\left (\\iota  \\right )} \\sin{\\left (\\theta  \\right )} \\cos{\\left (\\alpha  \\right )} \\cos{\\left (\\delta  \\right )} + \\cos{\\left (\\alpha  \\right )} \\cos{\\left (\\iota  \\right )} \\cos{\\left (\\theta  \\right )}\\right ) \\boldsymbol{e}_{3}  \\end{aligned}  \\end{equation*}"
      ],
      "text/plain": [
       "g =  (-sin(alpha)*sin(iota)*sin(theta)*cos(delta) - sin(alpha)*cos(iota)*cos(theta) + sin(delta)*sin(iota)*sin(psi)*cos(alpha) - sin(iota)*cos(alpha)*cos(delta)*cos(psi)*cos(theta) + sin(theta)*cos(alpha)*cos(iota)*cos(psi))*e_1\n",
       " + (-sin(delta)*sin(iota)*cos(psi) - sin(iota)*sin(psi)*cos(delta)*cos(theta) + sin(psi)*sin(theta)*cos(iota))*e_2\n",
       " + (sin(alpha)*sin(delta)*sin(iota)*sin(psi) - sin(alpha)*sin(iota)*cos(delta)*cos(psi)*cos(theta) + sin(alpha)*sin(theta)*cos(iota)*cos(psi) + sin(iota)*sin(theta)*cos(alpha)*cos(delta) + cos(alpha)*cos(iota)*cos(theta))*e_3"
      ]
     },
     "execution_count": 16,
     "metadata": {},
     "output_type": "execute_result"
    }
   ],
   "source": [
    "g = sum([ c*ni for c, ni in zip(gu.get_coefs(1),[n1, n2, n3])])\n",
    "g = g.trigsimp()\n",
    "g.Fmt(3, \"g\")"
   ]
  },
  {
   "cell_type": "markdown",
   "id": "eb6c4d86",
   "metadata": {},
   "source": [
    "The gnomon lies in the meridian plane when the following trivector vanishes:"
   ]
  },
  {
   "cell_type": "code",
   "execution_count": 17,
   "id": "e1bbbd10",
   "metadata": {},
   "outputs": [
    {
     "data": {
      "text/latex": [
       "\\begin{equation*} \\sin{\\left (\\delta  \\right )} \\sin{\\left (\\iota  \\right )} \\boldsymbol{e}_{1}\\wedge \\boldsymbol{e}_{2}\\wedge \\boldsymbol{e}_{3} \\end{equation*}"
      ],
      "text/plain": [
       "sin(delta)*sin(iota)*e_1^e_2^e_3"
      ]
     },
     "execution_count": 17,
     "metadata": {},
     "output_type": "execute_result"
    }
   ],
   "source": [
    "M^g"
   ]
  },
  {
   "cell_type": "markdown",
   "id": "8dfe5802",
   "metadata": {},
   "source": [
    "Will also want $s$ on the $n$ frame"
   ]
  },
  {
   "cell_type": "code",
   "execution_count": 18,
   "id": "99ab8aa6",
   "metadata": {},
   "outputs": [
    {
     "data": {
      "text/latex": [
       "\\begin{equation*} s_u =  \\begin{aligned}[t]  & \\left ( \\sin{\\left (\\alpha  \\right )} \\sin{\\left (\\theta  \\right )} \\cos{\\left (\\sigma  \\right )} + \\sin{\\left (\\psi  \\right )} \\sin{\\left (\\sigma  \\right )} \\cos{\\left (\\theta  \\right )} + \\cos{\\left (\\alpha  \\right )} \\cos{\\left (\\psi  \\right )} \\cos{\\left (\\sigma  \\right )} \\cos{\\left (\\theta  \\right )}\\right ) \\boldsymbol{u}_{1} \\\\  &  + \\left ( - \\sin{\\left (\\psi  \\right )} \\cos{\\left (\\alpha  \\right )} \\cos{\\left (\\sigma  \\right )} + \\sin{\\left (\\sigma  \\right )} \\cos{\\left (\\psi  \\right )}\\right ) \\boldsymbol{u}_{2} \\\\  &  + \\left ( - \\sin{\\left (\\alpha  \\right )} \\cos{\\left (\\sigma  \\right )} \\cos{\\left (\\theta  \\right )} + \\sin{\\left (\\psi  \\right )} \\sin{\\left (\\sigma  \\right )} \\sin{\\left (\\theta  \\right )} + \\sin{\\left (\\theta  \\right )} \\cos{\\left (\\alpha  \\right )} \\cos{\\left (\\psi  \\right )} \\cos{\\left (\\sigma  \\right )}\\right ) \\boldsymbol{u}_{3}  \\end{aligned}  \\end{equation*}"
      ],
      "text/plain": [
       "s_u =  (sin(alpha)*sin(theta)*cos(sigma) + sin(psi)*sin(sigma)*cos(theta) + cos(alpha)*cos(psi)*cos(sigma)*cos(theta))*u_1\n",
       " + (-sin(psi)*cos(alpha)*cos(sigma) + sin(sigma)*cos(psi))*u_2\n",
       " + (-sin(alpha)*cos(sigma)*cos(theta) + sin(psi)*sin(sigma)*sin(theta) + sin(theta)*cos(alpha)*cos(psi)*cos(sigma))*u_3"
      ]
     },
     "execution_count": 18,
     "metadata": {},
     "output_type": "execute_result"
    }
   ],
   "source": [
    "coeffs = [sp.trigsimp((s|c).obj) for c in [n1, n2, n3]]\n",
    "su = sum([coeff*vec for coeff, vec in zip(coeffs, [u1, u2, u3])])\n",
    "su.Fmt(3, \"s_u\")\n"
   ]
  },
  {
   "attachments": {},
   "cell_type": "markdown",
   "id": "999e5254",
   "metadata": {},
   "source": [
    "## The Calculation\n",
    "\n",
    "Work in the case where its declination angle $\\delta$ is zero."
   ]
  },
  {
   "cell_type": "code",
   "execution_count": 19,
   "id": "0454833b",
   "metadata": {},
   "outputs": [
    {
     "data": {
      "text/latex": [
       "\\begin{equation*} g_u = - \\sin{\\left (\\iota  \\right )} \\boldsymbol{u}_{1} + \\cos{\\left (\\iota  \\right )} \\boldsymbol{u}_{3} \\end{equation*}"
      ],
      "text/plain": [
       "g_u = -sin(iota)*u_1 + cos(iota)*u_3"
      ]
     },
     "execution_count": 19,
     "metadata": {},
     "output_type": "execute_result"
    }
   ],
   "source": [
    "gu_delta = gu\n",
    "gu = gu.subs(delta, 0)\n",
    "gu.Fmt(1, \"g_u\")"
   ]
  },
  {
   "cell_type": "code",
   "execution_count": 20,
   "id": "deded4c1",
   "metadata": {},
   "outputs": [
    {
     "data": {
      "text/latex": [
       "\\begin{equation*} g = \\left ( - \\sin{\\left (\\alpha  \\right )} \\cos{\\left (\\iota  - \\theta  \\right )} - \\sin{\\left (\\iota  - \\theta  \\right )} \\cos{\\left (\\alpha  \\right )} \\cos{\\left (\\psi  \\right )}\\right ) \\boldsymbol{e}_{1} - \\sin{\\left (\\psi  \\right )} \\sin{\\left (\\iota  - \\theta  \\right )} \\boldsymbol{e}_{2} + \\left ( - \\sin{\\left (\\alpha  \\right )} \\sin{\\left (\\iota  - \\theta  \\right )} \\cos{\\left (\\psi  \\right )} + \\cos{\\left (\\alpha  \\right )} \\cos{\\left (\\iota  - \\theta  \\right )}\\right ) \\boldsymbol{e}_{3} \\end{equation*}"
      ],
      "text/plain": [
       "g = (-sin(alpha)*cos(iota - theta) - sin(iota - theta)*cos(alpha)*cos(psi))*e_1 - sin(psi)*sin(iota - theta)*e_2 + (-sin(alpha)*sin(iota - theta)*cos(psi) + cos(alpha)*cos(iota - theta))*e_3"
      ]
     },
     "execution_count": 20,
     "metadata": {},
     "output_type": "execute_result"
    }
   ],
   "source": [
    "g_delta = g\n",
    "g = g.subs(delta, 0)\n",
    "g.Fmt(1, \"g\")"
   ]
  },
  {
   "cell_type": "markdown",
   "id": "cc82d6c4",
   "metadata": {},
   "source": [
    "`g.obj` trails behind by one trigsimp"
   ]
  },
  {
   "cell_type": "code",
   "execution_count": 21,
   "id": "54cf6957",
   "metadata": {},
   "outputs": [
    {
     "data": {
      "text/latex": [
       "$\\displaystyle \\left(- \\sin{\\left (\\iota  \\right )} \\sin{\\left (\\psi  \\right )} \\cos{\\left (\\theta  \\right )} + \\sin{\\left (\\psi  \\right )} \\sin{\\left (\\theta  \\right )} \\cos{\\left (\\iota  \\right )}\\right) \\boldsymbol{e}_{2} + \\left(- \\sin{\\left (\\alpha  \\right )} \\sin{\\left (\\iota  \\right )} \\sin{\\left (\\theta  \\right )} - \\sin{\\left (\\alpha  \\right )} \\cos{\\left (\\iota  \\right )} \\cos{\\left (\\theta  \\right )} - \\sin{\\left (\\iota  \\right )} \\cos{\\left (\\alpha  \\right )} \\cos{\\left (\\psi  \\right )} \\cos{\\left (\\theta  \\right )} + \\sin{\\left (\\theta  \\right )} \\cos{\\left (\\alpha  \\right )} \\cos{\\left (\\iota  \\right )} \\cos{\\left (\\psi  \\right )}\\right) \\boldsymbol{e}_{1} + \\left(- \\sin{\\left (\\alpha  \\right )} \\sin{\\left (\\iota  \\right )} \\cos{\\left (\\psi  \\right )} \\cos{\\left (\\theta  \\right )} + \\sin{\\left (\\alpha  \\right )} \\sin{\\left (\\theta  \\right )} \\cos{\\left (\\iota  \\right )} \\cos{\\left (\\psi  \\right )} + \\sin{\\left (\\iota  \\right )} \\sin{\\left (\\theta  \\right )} \\cos{\\left (\\alpha  \\right )} + \\cos{\\left (\\alpha  \\right )} \\cos{\\left (\\iota  \\right )} \\cos{\\left (\\theta  \\right )}\\right) \\boldsymbol{e}_{3}$"
      ],
      "text/plain": [
       "(-sin(iota)*sin(psi)*cos(theta) + sin(psi)*sin(theta)*cos(iota))*e_2 + (-sin(alpha)*sin(iota)*sin(theta) - sin(alpha)*cos(iota)*cos(theta) - sin(iota)*cos(alpha)*cos(psi)*cos(theta) + sin(theta)*cos(alpha)*cos(iota)*cos(psi))*e_1 + (-sin(alpha)*sin(iota)*cos(psi)*cos(theta) + sin(alpha)*sin(theta)*cos(iota)*cos(psi) + sin(iota)*sin(theta)*cos(alpha) + cos(alpha)*cos(iota)*cos(theta))*e_3"
      ]
     },
     "execution_count": 21,
     "metadata": {},
     "output_type": "execute_result"
    }
   ],
   "source": [
    "g.obj"
   ]
  },
  {
   "cell_type": "markdown",
   "id": "563ef403",
   "metadata": {},
   "source": [
    "Hack: ensure a healthy `g.obj` by reforming $g$ from the result of applying `sympy.trigsimp` to each component individually"
   ]
  },
  {
   "cell_type": "code",
   "execution_count": 22,
   "id": "a11547e7",
   "metadata": {},
   "outputs": [
    {
     "data": {
      "text/latex": [
       "\\begin{equation*} \\left ( - \\sin{\\left (\\alpha  \\right )} \\cos{\\left (\\iota  - \\theta  \\right )} - \\sin{\\left (\\iota  - \\theta  \\right )} \\cos{\\left (\\alpha  \\right )} \\cos{\\left (\\psi  \\right )}\\right ) \\boldsymbol{e}_{1} - \\sin{\\left (\\psi  \\right )} \\sin{\\left (\\iota  - \\theta  \\right )} \\boldsymbol{e}_{2} + \\left ( - \\sin{\\left (\\alpha  \\right )} \\sin{\\left (\\iota  - \\theta  \\right )} \\cos{\\left (\\psi  \\right )} + \\cos{\\left (\\alpha  \\right )} \\cos{\\left (\\iota  - \\theta  \\right )}\\right ) \\boldsymbol{e}_{3} \\end{equation*}"
      ],
      "text/plain": [
       "(-sin(alpha)*cos(iota - theta) - sin(iota - theta)*cos(alpha)*cos(psi))*e_1 - sin(psi)*sin(iota - theta)*e_2 + (-sin(alpha)*sin(iota - theta)*cos(psi) + cos(alpha)*cos(iota - theta))*e_3"
      ]
     },
     "execution_count": 22,
     "metadata": {},
     "output_type": "execute_result"
    }
   ],
   "source": [
    "g = sum([sp.trigsimp(coef)*vec for coef, vec in zip(g.get_coefs(1), G3.mv())])\n",
    "g"
   ]
  },
  {
   "cell_type": "code",
   "execution_count": 23,
   "id": "fb5c80f0",
   "metadata": {},
   "outputs": [
    {
     "data": {
      "text/latex": [
       "$\\displaystyle - \\sin{\\left (\\alpha  \\right )} \\sin{\\left (\\iota  - \\theta  \\right )} \\cos{\\left (\\psi  \\right )} \\boldsymbol{e}_{3} - \\sin{\\left (\\alpha  \\right )} \\cos{\\left (\\iota  - \\theta  \\right )} \\boldsymbol{e}_{1} - \\sin{\\left (\\psi  \\right )} \\sin{\\left (\\iota  - \\theta  \\right )} \\boldsymbol{e}_{2} - \\sin{\\left (\\iota  - \\theta  \\right )} \\cos{\\left (\\alpha  \\right )} \\cos{\\left (\\psi  \\right )} \\boldsymbol{e}_{1} + \\cos{\\left (\\alpha  \\right )} \\cos{\\left (\\iota  - \\theta  \\right )} \\boldsymbol{e}_{3}$"
      ],
      "text/plain": [
       "-sin(alpha)*sin(iota - theta)*cos(psi)*e_3 - sin(alpha)*cos(iota - theta)*e_1 - sin(psi)*sin(iota - theta)*e_2 - sin(iota - theta)*cos(alpha)*cos(psi)*e_1 + cos(alpha)*cos(iota - theta)*e_3"
      ]
     },
     "execution_count": 23,
     "metadata": {},
     "output_type": "execute_result"
    }
   ],
   "source": [
    "# eyeball check:\n",
    "g.obj"
   ]
  },
  {
   "attachments": {},
   "cell_type": "markdown",
   "id": "e22464f0",
   "metadata": {},
   "source": [
    "### The Shadow Plane\n",
    "\n",
    "$S = s \\wedge g$ is the plane containing the sunshine vector and the gnomon."
   ]
  },
  {
   "cell_type": "code",
   "execution_count": 24,
   "id": "6f3feea4",
   "metadata": {},
   "outputs": [
    {
     "data": {
      "text/latex": [
       "\\begin{equation*} S =  \\begin{aligned}[t]  & \\left ( \\sin{\\left (\\alpha  \\right )} \\sin{\\left (\\sigma  \\right )} \\cos{\\left (\\iota  - \\theta  \\right )} - \\sin{\\left (\\psi  \\right )} \\sin{\\left (\\iota  - \\theta  \\right )} \\cos{\\left (\\sigma  \\right )} + \\sin{\\left (\\sigma  \\right )} \\sin{\\left (\\iota  - \\theta  \\right )} \\cos{\\left (\\alpha  \\right )} \\cos{\\left (\\psi  \\right )}\\right ) \\boldsymbol{e}_{1}\\wedge \\boldsymbol{e}_{2} \\\\  &  + \\left(- \\sin{\\left (\\alpha  \\right )} \\sin{\\left (\\iota  - \\theta  \\right )} \\cos{\\left (\\psi  \\right )} + \\cos{\\left (\\alpha  \\right )} \\cos{\\left (\\iota  - \\theta  \\right )}\\right) \\cos{\\left (\\sigma  \\right )} \\boldsymbol{e}_{1}\\wedge \\boldsymbol{e}_{3} \\\\  &  + \\left(- \\sin{\\left (\\alpha  \\right )} \\sin{\\left (\\iota  - \\theta  \\right )} \\cos{\\left (\\psi  \\right )} + \\cos{\\left (\\alpha  \\right )} \\cos{\\left (\\iota  - \\theta  \\right )}\\right) \\sin{\\left (\\sigma  \\right )} \\boldsymbol{e}_{2}\\wedge \\boldsymbol{e}_{3}  \\end{aligned}  \\end{equation*}"
      ],
      "text/plain": [
       "S =  (sin(alpha)*sin(sigma)*cos(iota - theta) - sin(psi)*sin(iota - theta)*cos(sigma) + sin(sigma)*sin(iota - theta)*cos(alpha)*cos(psi))*e_1^e_2\n",
       " + (-sin(alpha)*sin(iota - theta)*cos(psi) + cos(alpha)*cos(iota - theta))*cos(sigma)*e_1^e_3\n",
       " + (-sin(alpha)*sin(iota - theta)*cos(psi) + cos(alpha)*cos(iota - theta))*sin(sigma)*e_2^e_3"
      ]
     },
     "execution_count": 24,
     "metadata": {},
     "output_type": "execute_result"
    }
   ],
   "source": [
    "S = s^g\n",
    "S.Fmt(3, \"S\")"
   ]
  },
  {
   "cell_type": "markdown",
   "id": "feecf2f2",
   "metadata": {},
   "source": [
    "Cosine of angle $\\Xi$ between sun ray and gnomon:"
   ]
  },
  {
   "cell_type": "code",
   "execution_count": 25,
   "id": "11b1ea72",
   "metadata": {},
   "outputs": [
    {
     "data": {
      "text/latex": [
       "$\\displaystyle \n",
       "        \\begin{equation}\n",
       "            \\cos(\\Xi) = - \\left(\\sin{\\left (\\alpha  \\right )} \\cos{\\left (\\iota  - \\theta  \\right )} + \\sin{\\left (\\iota  - \\theta  \\right )} \\cos{\\left (\\alpha  \\right )} \\cos{\\left (\\psi  \\right )}\\right) \\cos{\\left (\\sigma  \\right )} - \\sin{\\left (\\psi  \\right )} \\sin{\\left (\\sigma  \\right )} \\sin{\\left (\\iota  - \\theta  \\right )} \\nonumber\n",
       "        \\end{equation}\n",
       "        $"
      ],
      "text/plain": [
       "<IPython.core.display.Math object>"
      ]
     },
     "execution_count": 25,
     "metadata": {},
     "output_type": "execute_result"
    }
   ],
   "source": [
    "cosXi = sp.trigsimp((s|g).obj)\n",
    "print_eq(r\"\\cos(\\Xi)\", cosXi)"
   ]
  },
  {
   "cell_type": "markdown",
   "id": "bc500218",
   "metadata": {},
   "source": [
    "Check $S^2 = (s\\wedge g)^2 = (s\\cdot g)^2 - s^2 g^2$ where $s^2 = g^2 = 1$. "
   ]
  },
  {
   "cell_type": "code",
   "execution_count": 26,
   "id": "7aa045eb",
   "metadata": {},
   "outputs": [
    {
     "data": {
      "text/latex": [
       "\\begin{equation*}  0  \\end{equation*}"
      ],
      "text/plain": [
       "0"
      ]
     },
     "execution_count": 26,
     "metadata": {},
     "output_type": "execute_result"
    }
   ],
   "source": [
    "sg_squared = (s|g)*(s|g)\n",
    "(S|S) - ( sg_squared - 1 )"
   ]
  },
  {
   "cell_type": "markdown",
   "id": "219591ae",
   "metadata": {},
   "source": [
    "The magnitude of $S$ is given by $\\sqrt{-S^2} = \\sqrt{1 - (s\\cdot g)^2} = \\sqrt{1 - \\cos^2(\\Xi}) = \\sin^2(\\Xi)$:"
   ]
  },
  {
   "cell_type": "code",
   "execution_count": 27,
   "id": "067e8e0c",
   "metadata": {},
   "outputs": [
    {
     "data": {
      "text/latex": [
       "$\\displaystyle \n",
       "        \\begin{equation}\n",
       "            \\sin(\\Xi) = \\sqrt{1 - \\left(\\left(\\sin{\\left (\\psi  \\right )} \\sin{\\left (\\sigma  \\right )} + \\cos{\\left (\\alpha  \\right )} \\cos{\\left (\\psi  \\right )} \\cos{\\left (\\sigma  \\right )}\\right) \\sin{\\left (\\iota  - \\theta  \\right )} + \\sin{\\left (\\alpha  \\right )} \\cos{\\left (\\sigma  \\right )} \\cos{\\left (\\iota  - \\theta  \\right )}\\right)^{2}} \\nonumber\n",
       "        \\end{equation}\n",
       "        $"
      ],
      "text/plain": [
       "<IPython.core.display.Math object>"
      ]
     },
     "execution_count": 27,
     "metadata": {},
     "output_type": "execute_result"
    }
   ],
   "source": [
    "sinXi = sp.sqrt( 1 - ((cos(alpha)*cos(sigma)*cos(psi) + sin(sigma)*sin(psi))*sin(iota-theta) + sin(alpha)*cos(sigma)*cos(iota-theta))**2 )\n",
    "print_eq(\"\\sin(\\Xi)\", sinXi)"
   ]
  },
  {
   "cell_type": "code",
   "execution_count": 28,
   "id": "e9dce14f",
   "metadata": {},
   "outputs": [
    {
     "data": {
      "text/latex": [
       "\\begin{equation*}  0  \\end{equation*}"
      ],
      "text/plain": [
       "0"
      ]
     },
     "execution_count": 28,
     "metadata": {},
     "output_type": "execute_result"
    }
   ],
   "source": [
    "# check\n",
    "sinXi**2 - ( 1 - sg_squared )"
   ]
  },
  {
   "cell_type": "markdown",
   "id": "c148b008",
   "metadata": {},
   "source": [
    "### The Hour Angle\n",
    "\n",
    "Define a generalized solar hour angle $\\mu$ as the angle between $S$ and $M$, given by\n",
    "$$\\cos(\\mu) = \\frac{-S\\cdot M}{\\sqrt{-S^2}\\sqrt{-M^2}} = \\frac{-S\\cdot M}{\\sin(\\Xi)}$$\n",
    "given that $M^2=-1$"
   ]
  },
  {
   "cell_type": "code",
   "execution_count": 29,
   "id": "ed1ed8cc",
   "metadata": {},
   "outputs": [
    {
     "data": {
      "text/latex": [
       "$\\displaystyle \n",
       "        \\begin{equation}\n",
       "            \\sin(\\Xi) \\cos(\\mu) = - \\sin{\\left (\\alpha  \\right )} \\sin{\\left (\\iota  - \\theta  \\right )} \\cos{\\left (\\sigma  \\right )} + \\sin{\\left (\\psi  \\right )} \\sin{\\left (\\sigma  \\right )} \\cos{\\left (\\iota  - \\theta  \\right )} + \\cos{\\left (\\alpha  \\right )} \\cos{\\left (\\psi  \\right )} \\cos{\\left (\\sigma  \\right )} \\cos{\\left (\\iota  - \\theta  \\right )} \\nonumber\n",
       "        \\end{equation}\n",
       "        $"
      ],
      "text/plain": [
       "<IPython.core.display.Math object>"
      ]
     },
     "execution_count": 29,
     "metadata": {},
     "output_type": "execute_result"
    }
   ],
   "source": [
    "sinXi_cos_mu = sp.trigsimp(-(S|M).obj)\n",
    "\n",
    "print_eq( r\"\\sin(\\Xi) \\cos(\\mu)\", sinXi_cos_mu )"
   ]
  },
  {
   "cell_type": "markdown",
   "id": "9d3c2b1a",
   "metadata": {},
   "source": [
    "From $\\sin^2\\mu + \\cos^2\\mu = 1$ (by hand), we have:"
   ]
  },
  {
   "cell_type": "code",
   "execution_count": 30,
   "id": "7a4fa0ef",
   "metadata": {},
   "outputs": [
    {
     "data": {
      "text/latex": [
       "$\\displaystyle \n",
       "        \\begin{equation}\n",
       "            \\sin(\\Xi) \\sin(\\mu) = \\sin{\\left (\\psi  \\right )} \\cos{\\left (\\alpha  \\right )} \\cos{\\left (\\sigma  \\right )} - \\sin{\\left (\\sigma  \\right )} \\cos{\\left (\\psi  \\right )} \\nonumber\n",
       "        \\end{equation}\n",
       "        $"
      ],
      "text/plain": [
       "<IPython.core.display.Math object>"
      ]
     },
     "execution_count": 30,
     "metadata": {},
     "output_type": "execute_result"
    }
   ],
   "source": [
    "sinXi_sin_mu = cos(alpha)*sin(psi)*cos(sigma) - cos(psi)*sin(sigma)\n",
    "print_eq(\"\\sin(\\Xi) \\sin(\\mu)\", sinXi_sin_mu)"
   ]
  },
  {
   "cell_type": "markdown",
   "id": "fd198616",
   "metadata": {},
   "source": [
    "Check that $\\sin^2(\\Xi)\\sin^2(\\mu) + \\sin^2(\\Xi)\\cos^2(\\mu) = \\sin^2(\\Xi)$"
   ]
  },
  {
   "cell_type": "code",
   "execution_count": 31,
   "id": "a7b4970a",
   "metadata": {},
   "outputs": [
    {
     "data": {
      "text/latex": [
       "$\\displaystyle 0$"
      ],
      "text/plain": [
       "0"
      ]
     },
     "execution_count": 31,
     "metadata": {},
     "output_type": "execute_result"
    }
   ],
   "source": [
    "sp.trigsimp( sp.expand(sinXi_sin_mu**2) + sp.expand(sinXi_cos_mu**2) - sp.expand(sinXi**2) )"
   ]
  },
  {
   "cell_type": "markdown",
   "id": "2afe4131",
   "metadata": {},
   "source": [
    "The ratio gives $\\tan(\\mu)$ as in the paper:"
   ]
  },
  {
   "cell_type": "code",
   "execution_count": 32,
   "id": "cdd02274",
   "metadata": {},
   "outputs": [
    {
     "data": {
      "text/latex": [
       "$\\displaystyle \n",
       "        \\begin{equation}\n",
       "            \\tan(\\mu) = \\frac{\\sin{\\left (\\psi  \\right )} \\cos{\\left (\\alpha  \\right )} - \\cos{\\left (\\psi  \\right )} \\tan{\\left (\\sigma  \\right )}}{\\left(\\sin{\\left (\\psi  \\right )} \\tan{\\left (\\sigma  \\right )} + \\cos{\\left (\\alpha  \\right )} \\cos{\\left (\\psi  \\right )}\\right) \\cos{\\left (\\iota  - \\theta  \\right )} - \\sin{\\left (\\alpha  \\right )} \\sin{\\left (\\iota  - \\theta  \\right )}} \\nonumber\n",
       "        \\end{equation}\n",
       "        $"
      ],
      "text/plain": [
       "<IPython.core.display.Math object>"
      ]
     },
     "execution_count": 32,
     "metadata": {},
     "output_type": "execute_result"
    }
   ],
   "source": [
    "mu_ratio = sinXi_sin_mu / sp.collect(sinXi_cos_mu, cos(iota-theta))\n",
    "print_eq( r\"\\tan(\\mu)\", sp.simplify( mu_ratio.subs(sin(sigma), tan(sigma)*cos(sigma)) ) )"
   ]
  },
  {
   "cell_type": "markdown",
   "id": "a218b272",
   "metadata": {},
   "source": [
    "Now express $S$ in terms of $\\mu$ on the $\\{n\\}$ basis. First remind myself what $S$ looks like:"
   ]
  },
  {
   "cell_type": "code",
   "execution_count": 33,
   "id": "7fd9f8d3",
   "metadata": {},
   "outputs": [
    {
     "data": {
      "text/latex": [
       "\\begin{equation*} S =  \\begin{aligned}[t]  & \\left ( \\sin{\\left (\\alpha  \\right )} \\sin{\\left (\\sigma  \\right )} \\cos{\\left (\\iota  - \\theta  \\right )} - \\sin{\\left (\\psi  \\right )} \\sin{\\left (\\iota  - \\theta  \\right )} \\cos{\\left (\\sigma  \\right )} + \\sin{\\left (\\sigma  \\right )} \\sin{\\left (\\iota  - \\theta  \\right )} \\cos{\\left (\\alpha  \\right )} \\cos{\\left (\\psi  \\right )}\\right ) \\boldsymbol{e}_{1}\\wedge \\boldsymbol{e}_{2} \\\\  &  + \\left(- \\sin{\\left (\\alpha  \\right )} \\sin{\\left (\\iota  - \\theta  \\right )} \\cos{\\left (\\psi  \\right )} + \\cos{\\left (\\alpha  \\right )} \\cos{\\left (\\iota  - \\theta  \\right )}\\right) \\cos{\\left (\\sigma  \\right )} \\boldsymbol{e}_{1}\\wedge \\boldsymbol{e}_{3} \\\\  &  + \\left(- \\sin{\\left (\\alpha  \\right )} \\sin{\\left (\\iota  - \\theta  \\right )} \\cos{\\left (\\psi  \\right )} + \\cos{\\left (\\alpha  \\right )} \\cos{\\left (\\iota  - \\theta  \\right )}\\right) \\sin{\\left (\\sigma  \\right )} \\boldsymbol{e}_{2}\\wedge \\boldsymbol{e}_{3}  \\end{aligned}  \\end{equation*}"
      ],
      "text/plain": [
       "S =  (sin(alpha)*sin(sigma)*cos(iota - theta) - sin(psi)*sin(iota - theta)*cos(sigma) + sin(sigma)*sin(iota - theta)*cos(alpha)*cos(psi))*e_1^e_2\n",
       " + (-sin(alpha)*sin(iota - theta)*cos(psi) + cos(alpha)*cos(iota - theta))*cos(sigma)*e_1^e_3\n",
       " + (-sin(alpha)*sin(iota - theta)*cos(psi) + cos(alpha)*cos(iota - theta))*sin(sigma)*e_2^e_3"
      ]
     },
     "execution_count": 33,
     "metadata": {},
     "output_type": "execute_result"
    }
   ],
   "source": [
    "S.Fmt(3, \"S\")"
   ]
  },
  {
   "cell_type": "markdown",
   "id": "d1c39485",
   "metadata": {},
   "source": [
    "and save nice forms of the $n$ bivectors"
   ]
  },
  {
   "cell_type": "code",
   "execution_count": 34,
   "id": "7b7e46a1",
   "metadata": {},
   "outputs": [],
   "source": [
    "n12 = mv.Mv(sp.trigsimp(sp.expand_trig((n1^n2).obj)), ga=G3)\n",
    "n13 = mv.Mv(sp.trigsimp(sp.expand_trig((n1^n3).obj)), ga=G3)\n",
    "n23 = mv.Mv(sp.trigsimp(sp.expand_trig((n2^n3).obj)), ga=G3)"
   ]
  },
  {
   "cell_type": "markdown",
   "id": "bddf42ff",
   "metadata": {},
   "source": [
    "So now can check each component of S on the $n$ basis"
   ]
  },
  {
   "cell_type": "code",
   "execution_count": 35,
   "id": "aaea8f72",
   "metadata": {},
   "outputs": [
    {
     "data": {
      "text/plain": [
       "True"
      ]
     },
     "execution_count": 35,
     "metadata": {},
     "output_type": "execute_result"
    }
   ],
   "source": [
    "(S|n12) + (-sinXi_sin_mu*sin(iota)) == (S|n13) + sinXi_cos_mu == (S|n23) + (-sinXi_sin_mu*cos(iota)) == mv.Mv(0, ga=G3)"
   ]
  },
  {
   "cell_type": "markdown",
   "id": "c85f6544",
   "metadata": {},
   "source": [
    "and confirm S in this form"
   ]
  },
  {
   "cell_type": "code",
   "execution_count": 36,
   "id": "f686f930",
   "metadata": {},
   "outputs": [
    {
     "data": {
      "text/latex": [
       "\\begin{equation*}  0  \\end{equation*}"
      ],
      "text/plain": [
       "0"
      ]
     },
     "execution_count": 36,
     "metadata": {},
     "output_type": "execute_result"
    }
   ],
   "source": [
    "S - (-sinXi_sin_mu*(sin(iota)*n12 + cos(iota)*n23) + sinXi_cos_mu*n13)"
   ]
  },
  {
   "cell_type": "markdown",
   "id": "596daddb",
   "metadata": {},
   "source": [
    "so can capture S in terms of the surface-frame bivectors"
   ]
  },
  {
   "cell_type": "code",
   "execution_count": 37,
   "id": "2a1a5c1a",
   "metadata": {},
   "outputs": [
    {
     "data": {
      "text/latex": [
       "\\begin{equation*} S_u = - \\sin{\\left (\\Xi \\right )} \\sin{\\left (\\iota  \\right )} \\sin{\\left (\\mu  \\right )} \\boldsymbol{u}_{1}\\wedge \\boldsymbol{u}_{2} + \\sin{\\left (\\Xi \\right )} \\cos{\\left (\\mu  \\right )} \\boldsymbol{u}_{1}\\wedge \\boldsymbol{u}_{3} - \\sin{\\left (\\Xi \\right )} \\sin{\\left (\\mu  \\right )} \\cos{\\left (\\iota  \\right )} \\boldsymbol{u}_{2}\\wedge \\boldsymbol{u}_{3} \\end{equation*}"
      ],
      "text/plain": [
       "S_u = -sin(\\Xi)*sin(iota)*sin(mu)*u_1^u_2 + sin(\\Xi)*cos(mu)*u_1^u_3 - sin(\\Xi)*sin(mu)*cos(iota)*u_2^u_3"
      ]
     },
     "execution_count": 37,
     "metadata": {},
     "output_type": "execute_result"
    }
   ],
   "source": [
    "Xi = sp.Symbol(\"\\Xi\")\n",
    "Su = sin(Xi)*( -sin(mu) * (sin(iota)*(u1^u2) + cos(iota)*(u2^u3)) + cos(mu)*(u1^u3) )\n",
    "Su.Fmt(1, \"S_u\")"
   ]
  },
  {
   "cell_type": "markdown",
   "id": "91d5c308",
   "metadata": {},
   "source": [
    "Check that $S_u$ and $S$ are really the same thing"
   ]
  },
  {
   "cell_type": "code",
   "execution_count": 38,
   "id": "2613b3e2",
   "metadata": {},
   "outputs": [
    {
     "data": {
      "text/latex": [
       "\\begin{equation*}  0  \\end{equation*}"
      ],
      "text/plain": [
       "0"
      ]
     },
     "execution_count": 38,
     "metadata": {},
     "output_type": "execute_result"
    }
   ],
   "source": [
    "def e_frame(bvec):\n",
    "    \"\"\"\n",
    "    Take a bivector in the GA defined by the surface frame n1, n2, n3 (written as u1, u2, u3)\n",
    "    and express it in the GA defined by the frame of the fixed stars, e1, e2, e3\n",
    "    \"\"\"\n",
    "    coeffs = bvec.get_coefs(2)\n",
    "    return coeffs[0]*n12 + coeffs[1]*n13 + coeffs[2]*n23\n",
    "\n",
    "e_frame(Su).subs(sin(mu), sinXi_sin_mu/sin(Xi)).subs(cos(mu), sinXi_cos_mu/sin(Xi)) - S\n"
   ]
  },
  {
   "cell_type": "markdown",
   "id": "5f4c27a8",
   "metadata": {},
   "source": [
    "### The Shadow Angle\n",
    "\n",
    "Form a vector parallel to the shadow, as the intersection between $S$ (the plane containing the sun ray and the gnomon) and $G$ (the dial face)"
   ]
  },
  {
   "cell_type": "code",
   "execution_count": 39,
   "id": "9eb8a306",
   "metadata": {},
   "outputs": [
    {
     "data": {
      "text/latex": [
       "\\begin{equation*} u =  \\begin{aligned}[t]  & \\left(\\sin{\\left (d \\right )} \\sin{\\left (i \\right )} \\sin{\\left (\\iota  \\right )} \\sin{\\left (\\mu  \\right )} + \\cos{\\left (i \\right )} \\cos{\\left (\\mu  \\right )}\\right) \\sin{\\left (\\Xi \\right )} \\boldsymbol{u}_{1} \\\\  &  + \\left(- \\sin{\\left (i \\right )} \\sin{\\left (\\iota  \\right )} \\cos{\\left (d \\right )} - \\cos{\\left (i \\right )} \\cos{\\left (\\iota  \\right )}\\right) \\sin{\\left (\\Xi \\right )} \\sin{\\left (\\mu  \\right )} \\boldsymbol{u}_{2} \\\\  &  + \\left(- \\sin{\\left (d \\right )} \\sin{\\left (\\mu  \\right )} \\cos{\\left (\\iota  \\right )} + \\cos{\\left (d \\right )} \\cos{\\left (\\mu  \\right )}\\right) \\sin{\\left (\\Xi \\right )} \\sin{\\left (i \\right )} \\boldsymbol{u}_{3}  \\end{aligned}  \\end{equation*}"
      ],
      "text/plain": [
       "u =  (sin(d)*sin(i)*sin(iota)*sin(mu) + cos(i)*cos(mu))*sin(\\Xi)*u_1\n",
       " + (-sin(i)*sin(iota)*cos(d) - cos(i)*cos(iota))*sin(\\Xi)*sin(mu)*u_2\n",
       " + (-sin(d)*sin(mu)*cos(iota) + cos(d)*cos(mu))*sin(\\Xi)*sin(i)*u_3"
      ]
     },
     "execution_count": 39,
     "metadata": {},
     "output_type": "execute_result"
    }
   ],
   "source": [
    "u = ((u1^u2^u3) * Gu * Su).get_grade(1)\n",
    "u.Fmt(3, \"u\")"
   ]
  },
  {
   "cell_type": "markdown",
   "id": "3f4f2759",
   "metadata": {},
   "source": [
    "Want to normalize $u$ to get $\\hat{u} \\equiv \\hat{w}$, a unit vector parallel to the shadow $w$. Can square and add the above components, but there is a route to a simpler expression as follows.\n",
    "\n",
    "The cosine of the angle between the \"shadow plane\" $S$ (containing the sun ray $s$ and the gnomon $g$) and dial face $G$ is given by\n",
    "$$\\cos(\\Psi) = \\frac{S\\cdot G}{\\sqrt{-S^2}\\sqrt{-G^2}}$$\n",
    "Given that $S^2 = -\\sin^2(\\Xi)$ and $G^2 = -1$,\n",
    "$$ \\cos(\\Psi) = \\frac{S\\cdot G}{\\sin(\\Xi)}$$"
   ]
  },
  {
   "cell_type": "code",
   "execution_count": 40,
   "id": "1b4d400e",
   "metadata": {},
   "outputs": [
    {
     "data": {
      "text/latex": [
       "$\\displaystyle \n",
       "        \\begin{equation}\n",
       "            \\cos(\\Psi) = - \\sin{\\left (d \\right )} \\sin{\\left (i \\right )} \\cos{\\left (\\mu  \\right )} - \\sin{\\left (i \\right )} \\sin{\\left (\\mu  \\right )} \\cos{\\left (d \\right )} \\cos{\\left (\\iota  \\right )} + \\sin{\\left (\\iota  \\right )} \\sin{\\left (\\mu  \\right )} \\cos{\\left (i \\right )} \\nonumber\n",
       "        \\end{equation}\n",
       "        $"
      ],
      "text/plain": [
       "<IPython.core.display.Math object>"
      ]
     },
     "execution_count": 40,
     "metadata": {},
     "output_type": "execute_result"
    }
   ],
   "source": [
    "cosPsi = sp.trigsimp(((Su|Gu)/sin(Xi)).obj)\n",
    "print_eq(r\"\\cos(\\Psi)\", cosPsi)"
   ]
  },
  {
   "cell_type": "code",
   "execution_count": 41,
   "id": "e4205d9c",
   "metadata": {},
   "outputs": [
    {
     "data": {
      "text/latex": [
       "\\begin{equation*}  0  \\end{equation*}"
      ],
      "text/plain": [
       "0"
      ]
     },
     "execution_count": 41,
     "metadata": {},
     "output_type": "execute_result"
    }
   ],
   "source": [
    "# check (force sympy to give up the positive square root in each factor in the denominator)\n",
    "sp.trigsimp((Su|Gu).obj) \\\n",
    "/ sp.powdenest(sp.sqrt(sp.trigsimp((-Su|Su).obj)), force=True) \\\n",
    "/ sp.powdenest(sp.sqrt(sp.trigsimp((-Gu|Gu).obj)), force=True) \\\n",
    "- ((Su|Gu)/sin(Xi))"
   ]
  },
  {
   "cell_type": "markdown",
   "id": "ec1651c7",
   "metadata": {},
   "source": [
    "Now, the length of $u$ is related to $\\Psi$ as follows.\n",
    "$$u^2 = (I\\; G \\times S)^2 = (\\frac{I}{2}(GS-SG))^2 = -\\frac{1}{4}(GSGS+SGSG-2S^2G^2)$$\n",
    "But\n",
    "$$(S\\cdot G)^2 = \\frac{1}{4}(SG+GS)^2 = \\frac{1}{4}(SGSG+GSGS+2S^2G^2)$$\n",
    "So,\n",
    "$$u^2 = S^2G^2 - (S\\cdot G)^2 = \\sin^2(\\Xi) - (S\\cdot G)^2 = \\sin^2(\\Xi)\\sin^2(\\Psi)$$"
   ]
  },
  {
   "cell_type": "code",
   "execution_count": 42,
   "id": "aede3b83",
   "metadata": {},
   "outputs": [
    {
     "data": {
      "text/latex": [
       "\\begin{equation*}  0  \\end{equation*}"
      ],
      "text/plain": [
       "0"
      ]
     },
     "execution_count": 42,
     "metadata": {},
     "output_type": "execute_result"
    }
   ],
   "source": [
    "# check\n",
    "(u|u) - (sin(Xi)**2 - (Su|Gu)**2)"
   ]
  },
  {
   "cell_type": "markdown",
   "id": "7b1598b8",
   "metadata": {},
   "source": [
    "We can now form $\\hat{w}$ by dividing $u$ by its length"
   ]
  },
  {
   "cell_type": "code",
   "execution_count": 43,
   "id": "b407afd4",
   "metadata": {},
   "outputs": [
    {
     "data": {
      "text/latex": [
       "\\begin{equation*} \\hat{w} =  \\begin{aligned}[t]  & \\frac{\\sin{\\left (d \\right )} \\sin{\\left (i \\right )} \\sin{\\left (\\iota  \\right )} \\sin{\\left (\\mu  \\right )} + \\cos{\\left (i \\right )} \\cos{\\left (\\mu  \\right )}}{\\sin{\\left (\\Psi \\right )}} \\boldsymbol{u}_{1} \\\\  &  - \\frac{\\left(\\sin{\\left (i \\right )} \\sin{\\left (\\iota  \\right )} \\cos{\\left (d \\right )} + \\cos{\\left (i \\right )} \\cos{\\left (\\iota  \\right )}\\right) \\sin{\\left (\\mu  \\right )}}{\\sin{\\left (\\Psi \\right )}} \\boldsymbol{u}_{2} \\\\  &  + \\frac{\\left(- \\sin{\\left (d \\right )} \\sin{\\left (\\mu  \\right )} \\cos{\\left (\\iota  \\right )} + \\cos{\\left (d \\right )} \\cos{\\left (\\mu  \\right )}\\right) \\sin{\\left (i \\right )}}{\\sin{\\left (\\Psi \\right )}} \\boldsymbol{u}_{3}  \\end{aligned}  \\end{equation*}"
      ],
      "text/plain": [
       "\\hat{w} =  (sin(d)*sin(i)*sin(iota)*sin(mu) + cos(i)*cos(mu))*u_1/sin(\\Psi)\n",
       " - (sin(i)*sin(iota)*cos(d) + cos(i)*cos(iota))*sin(mu)*u_2/sin(\\Psi)\n",
       " + (-sin(d)*sin(mu)*cos(iota) + cos(d)*cos(mu))*sin(i)*u_3/sin(\\Psi)"
      ]
     },
     "execution_count": 43,
     "metadata": {},
     "output_type": "execute_result"
    }
   ],
   "source": [
    "Psi = sp.Symbol(\"\\Psi\")\n",
    "what = u/sin(Xi)/sin(Psi)\n",
    "what.Fmt(3, r\"\\hat{w}\")"
   ]
  },
  {
   "cell_type": "markdown",
   "id": "c07ae2e8",
   "metadata": {},
   "source": [
    "Check that\n",
    "$$\\hat{w}^2 = \\left(\\frac{u}{\\sin(\\Xi)\\sin(\\Psi)}\\right)^2 = 1$$\n",
    "by showing that\n",
    "$$\\frac{u^2}{\\sin^2(\\Xi)} - \\sin^2\\Psi = 0$$"
   ]
  },
  {
   "cell_type": "code",
   "execution_count": 46,
   "id": "fd35dea4",
   "metadata": {},
   "outputs": [
    {
     "data": {
      "text/latex": [
       "$\\displaystyle 0$"
      ],
      "text/plain": [
       "0"
      ]
     },
     "execution_count": 46,
     "metadata": {},
     "output_type": "execute_result"
    }
   ],
   "source": [
    "sinPsiSquared = 1 - sp.expand(cosPsi**2)\n",
    "u_over_sinXi_squared = sp.trigsimp(((u|u)/sin(Xi)**2).obj)\n",
    "sp.trigsimp(u_over_sinXi_squared - sinPsiSquared)"
   ]
  },
  {
   "cell_type": "markdown",
   "id": "8615a195",
   "metadata": {},
   "source": [
    "Get the angular coordinate of the shadow tip relative to noon, call it $\\zeta$. At noon we have $\\mu = 0$"
   ]
  },
  {
   "cell_type": "code",
   "execution_count": 48,
   "id": "66cd5315",
   "metadata": {},
   "outputs": [
    {
     "data": {
      "text/latex": [
       "$\\displaystyle \\sqrt{- {\\sin{\\left (d \\right )}}^{2} {\\sin{\\left (i \\right )}}^{2} + 1}$"
      ],
      "text/plain": [
       "sqrt(-sin(d)**2*sin(i)**2 + 1)"
      ]
     },
     "execution_count": 48,
     "metadata": {},
     "output_type": "execute_result"
    }
   ],
   "source": [
    "sinPsi_noon = sp.sqrt(1-cosPsi**2).subs(mu,0)\n",
    "sinPsi_noon"
   ]
  },
  {
   "cell_type": "code",
   "execution_count": 49,
   "id": "54aae929",
   "metadata": {},
   "outputs": [
    {
     "data": {
      "text/latex": [
       "\\begin{equation*} \\frac{\\cos{\\left (i \\right )}}{\\sqrt{- {\\sin{\\left (d \\right )}}^{2} {\\sin{\\left (i \\right )}}^{2} + 1}} \\boldsymbol{u}_{1} + \\frac{\\sin{\\left (i \\right )} \\cos{\\left (d \\right )}}{\\sqrt{- {\\sin{\\left (d \\right )}}^{2} {\\sin{\\left (i \\right )}}^{2} + 1}} \\boldsymbol{u}_{3} \\end{equation*}"
      ],
      "text/plain": [
       "cos(i)*u_1/sqrt(-sin(d)**2*sin(i)**2 + 1) + sin(i)*cos(d)*u_3/sqrt(-sin(d)**2*sin(i)**2 + 1)"
      ]
     },
     "execution_count": 49,
     "metadata": {},
     "output_type": "execute_result"
    }
   ],
   "source": [
    "noon = what.subs(sin(Psi),sinPsi_noon).subs(mu,0)\n",
    "noon"
   ]
  },
  {
   "cell_type": "markdown",
   "id": "ee3241f8",
   "metadata": {},
   "source": [
    "So $\\cos(\\zeta) = \\hat{w}(\\mu) \\cdot \\hat{w}(0)$"
   ]
  },
  {
   "cell_type": "code",
   "execution_count": 50,
   "id": "dc3754df",
   "metadata": {},
   "outputs": [
    {
     "data": {
      "text/latex": [
       "$\\displaystyle \n",
       "        \\begin{equation}\n",
       "            \\cos(\\zeta) = \\frac{\\left(- {\\sin{\\left (d \\right )}}^{2} {\\sin{\\left (i \\right )}}^{2} + 1\\right) \\cos{\\left (\\mu  \\right )} + \\left(- \\sin{\\left (i \\right )} \\cos{\\left (d \\right )} \\cos{\\left (\\iota  \\right )} + \\sin{\\left (\\iota  \\right )} \\cos{\\left (i \\right )}\\right) \\sin{\\left (d \\right )} \\sin{\\left (i \\right )} \\sin{\\left (\\mu  \\right )}}{\\sqrt{- {\\sin{\\left (d \\right )}}^{2} {\\sin{\\left (i \\right )}}^{2} + 1} \\sin{\\left (\\Psi \\right )}} \\nonumber\n",
       "        \\end{equation}\n",
       "        $"
      ],
      "text/plain": [
       "<IPython.core.display.Math object>"
      ]
     },
     "execution_count": 50,
     "metadata": {},
     "output_type": "execute_result"
    }
   ],
   "source": [
    "cos_zeta = sp.collect(sp.collect(sp.trigsimp((what|noon).obj),sin(mu)*sin(i)*sin(d)),cos(mu))\n",
    "print_eq( r\"\\cos(\\zeta)\", cos_zeta )"
   ]
  },
  {
   "cell_type": "markdown",
   "id": "e6e63c00",
   "metadata": {},
   "source": [
    "And easiest route to $\\sin(\\zeta)$ is to use the fact that the shadow lives in the plane of the dial face, so $\\hat{w}(\\mu) \\wedge \\hat{w}(0) = \\sin(\\zeta) G$"
   ]
  },
  {
   "cell_type": "code",
   "execution_count": 51,
   "id": "f51f2037",
   "metadata": {},
   "outputs": [
    {
     "data": {
      "text/latex": [
       "$\\displaystyle \n",
       "        \\begin{equation}\n",
       "            \\sin(\\zeta) = \\frac{\\left(\\sin{\\left (i \\right )} \\sin{\\left (\\iota  \\right )} \\cos{\\left (d \\right )} + \\cos{\\left (i \\right )} \\cos{\\left (\\iota  \\right )}\\right) \\sin{\\left (\\mu  \\right )}}{\\sqrt{- {\\sin{\\left (d \\right )}}^{2} {\\sin{\\left (i \\right )}}^{2} + 1} \\sin{\\left (\\Psi \\right )}} \\nonumber\n",
       "        \\end{equation}\n",
       "        $"
      ],
      "text/plain": [
       "<IPython.core.display.Math object>"
      ]
     },
     "execution_count": 51,
     "metadata": {},
     "output_type": "execute_result"
    }
   ],
   "source": [
    "sin_zeta = -(what ^ noon) | Gu\n",
    "print_eq(r\"\\sin(\\zeta)\", sin_zeta)"
   ]
  },
  {
   "cell_type": "code",
   "execution_count": 52,
   "id": "1b34802f",
   "metadata": {},
   "outputs": [
    {
     "data": {
      "text/latex": [
       "$\\displaystyle \n",
       "        \\begin{equation}\n",
       "            \\tan(\\zeta) = - \\frac{\\left(\\sin{\\left (i \\right )} \\sin{\\left (\\iota  \\right )} \\cos{\\left (d \\right )} + \\cos{\\left (i \\right )} \\cos{\\left (\\iota  \\right )}\\right) \\tan{\\left (\\mu  \\right )}}{{\\sin{\\left (d \\right )}}^{2} {\\sin{\\left (i \\right )}}^{2} + \\sin{\\left (d \\right )} {\\sin{\\left (i \\right )}}^{2} \\cos{\\left (d \\right )} \\cos{\\left (\\iota  \\right )} \\tan{\\left (\\mu  \\right )} - \\sin{\\left (d \\right )} \\sin{\\left (i \\right )} \\sin{\\left (\\iota  \\right )} \\cos{\\left (i \\right )} \\tan{\\left (\\mu  \\right )} - 1} \\nonumber\n",
       "        \\end{equation}\n",
       "        $"
      ],
      "text/plain": [
       "<IPython.core.display.Math object>"
      ]
     },
     "execution_count": 52,
     "metadata": {},
     "output_type": "execute_result"
    }
   ],
   "source": [
    "tan_zeta = (sin_zeta/cos_zeta).subs(sin(mu), tan(mu)*cos(mu))\n",
    "print_eq(r\"\\tan(\\zeta)\", tan_zeta)"
   ]
  },
  {
   "cell_type": "markdown",
   "id": "8de28d7e",
   "metadata": {},
   "source": [
    "Check that $\\sin^2(\\zeta) + \\cos^2(\\zeta) = 1$"
   ]
  },
  {
   "cell_type": "code",
   "execution_count": 63,
   "id": "51674b96",
   "metadata": {},
   "outputs": [
    {
     "data": {
      "text/latex": [
       "$\\displaystyle \\frac{- {\\sin{\\left (d \\right )}}^{2} {\\sin{\\left (i \\right )}}^{2} {\\sin{\\left (\\iota  \\right )}}^{2} {\\sin{\\left (\\mu  \\right )}}^{2} + 2 {\\sin{\\left (d \\right )}}^{2} {\\sin{\\left (i \\right )}}^{2} {\\sin{\\left (\\mu  \\right )}}^{2} - {\\sin{\\left (d \\right )}}^{2} {\\sin{\\left (i \\right )}}^{2} - 2 \\sin{\\left (d \\right )} {\\sin{\\left (i \\right )}}^{2} \\sin{\\left (\\mu  \\right )} \\cos{\\left (d \\right )} \\cos{\\left (\\iota  \\right )} \\cos{\\left (\\mu  \\right )} + 2 \\sin{\\left (d \\right )} \\sin{\\left (i \\right )} \\sin{\\left (\\iota  \\right )} \\sin{\\left (\\mu  \\right )} \\cos{\\left (i \\right )} \\cos{\\left (\\mu  \\right )} + 2 {\\sin{\\left (i \\right )}}^{2} {\\sin{\\left (\\iota  \\right )}}^{2} {\\sin{\\left (\\mu  \\right )}}^{2} - {\\sin{\\left (i \\right )}}^{2} {\\sin{\\left (\\mu  \\right )}}^{2} + 2 \\sin{\\left (i \\right )} \\sin{\\left (\\iota  \\right )} {\\sin{\\left (\\mu  \\right )}}^{2} \\cos{\\left (d \\right )} \\cos{\\left (i \\right )} \\cos{\\left (\\iota  \\right )} - {\\sin{\\left (\\iota  \\right )}}^{2} {\\sin{\\left (\\mu  \\right )}}^{2} + 1}{{\\sin{\\left (\\Psi \\right )}}^{2}}$"
      ],
      "text/plain": [
       "(-sin(d)**2*sin(i)**2*sin(iota)**2*sin(mu)**2 + 2*sin(d)**2*sin(i)**2*sin(mu)**2 - sin(d)**2*sin(i)**2 - 2*sin(d)*sin(i)**2*sin(mu)*cos(d)*cos(iota)*cos(mu) + 2*sin(d)*sin(i)*sin(iota)*sin(mu)*cos(i)*cos(mu) + 2*sin(i)**2*sin(iota)**2*sin(mu)**2 - sin(i)**2*sin(mu)**2 + 2*sin(i)*sin(iota)*sin(mu)**2*cos(d)*cos(i)*cos(iota) - sin(iota)**2*sin(mu)**2 + 1)/sin(\\Psi)**2"
      ]
     },
     "execution_count": 63,
     "metadata": {},
     "output_type": "execute_result"
    }
   ],
   "source": [
    "sp.simplify(sp.expand( sp.trigsimp(sin_zeta.obj)**2 + cos_zeta**2 ))"
   ]
  },
  {
   "cell_type": "markdown",
   "id": "4819d764",
   "metadata": {},
   "source": [
    "This is 1 if the numerator is equal to the denominator, and we have an explicit expression for $\\cos(\\Psi) = \\sqrt{1 - \\sin^2(\\Psi)}$. So should get zero from the following:"
   ]
  },
  {
   "cell_type": "code",
   "execution_count": 64,
   "id": "40fd3af4",
   "metadata": {},
   "outputs": [
    {
     "data": {
      "text/latex": [
       "$\\displaystyle 0$"
      ],
      "text/plain": [
       "0"
      ]
     },
     "execution_count": 64,
     "metadata": {},
     "output_type": "execute_result"
    }
   ],
   "source": [
    "sp.trigsimp(sp.numer(_) - (1-cosPsi**2))"
   ]
  },
  {
   "cell_type": "markdown",
   "id": "c132ef54",
   "metadata": {},
   "source": [
    "### The Shadow Length\n",
    "\n",
    "We have the angle of the shadow vector $w$. Now find the length. Form $w(p) = g + p*s$ and enforce $w(p) \\wedge G = 0$ (used $\\lambda$ instead of $p$ in the paper but can't here because it's a keyword in Python)."
   ]
  },
  {
   "cell_type": "code",
   "execution_count": 65,
   "id": "052847de",
   "metadata": {},
   "outputs": [
    {
     "data": {
      "text/latex": [
       "\\begin{equation*} p \\sin{\\left (\\alpha  \\right )} \\sin{\\left (i \\right )} \\sin{\\left (\\theta  \\right )} \\cos{\\left (d \\right )} \\cos{\\left (\\sigma  \\right )} + p \\sin{\\left (\\alpha  \\right )} \\cos{\\left (i \\right )} \\cos{\\left (\\sigma  \\right )} \\cos{\\left (\\theta  \\right )} - p \\sin{\\left (d \\right )} \\sin{\\left (i \\right )} \\sin{\\left (\\psi  \\right )} \\cos{\\left (\\alpha  \\right )} \\cos{\\left (\\sigma  \\right )} + p \\sin{\\left (d \\right )} \\sin{\\left (i \\right )} \\sin{\\left (\\sigma  \\right )} \\cos{\\left (\\psi  \\right )} + p \\sin{\\left (i \\right )} \\sin{\\left (\\psi  \\right )} \\sin{\\left (\\sigma  \\right )} \\cos{\\left (d \\right )} \\cos{\\left (\\theta  \\right )} + p \\sin{\\left (i \\right )} \\cos{\\left (\\alpha  \\right )} \\cos{\\left (d \\right )} \\cos{\\left (\\psi  \\right )} \\cos{\\left (\\sigma  \\right )} \\cos{\\left (\\theta  \\right )} - p \\sin{\\left (\\psi  \\right )} \\sin{\\left (\\sigma  \\right )} \\sin{\\left (\\theta  \\right )} \\cos{\\left (i \\right )} - p \\sin{\\left (\\theta  \\right )} \\cos{\\left (\\alpha  \\right )} \\cos{\\left (i \\right )} \\cos{\\left (\\psi  \\right )} \\cos{\\left (\\sigma  \\right )} - \\sin{\\left (i \\right )} \\sin{\\left (\\iota  \\right )} \\cos{\\left (d \\right )} - \\cos{\\left (i \\right )} \\cos{\\left (\\iota  \\right )} \\end{equation*}"
      ],
      "text/plain": [
       "p*sin(alpha)*sin(i)*sin(theta)*cos(d)*cos(sigma) + p*sin(alpha)*cos(i)*cos(sigma)*cos(theta) - p*sin(d)*sin(i)*sin(psi)*cos(alpha)*cos(sigma) + p*sin(d)*sin(i)*sin(sigma)*cos(psi) + p*sin(i)*sin(psi)*sin(sigma)*cos(d)*cos(theta) + p*sin(i)*cos(alpha)*cos(d)*cos(psi)*cos(sigma)*cos(theta) - p*sin(psi)*sin(sigma)*sin(theta)*cos(i) - p*sin(theta)*cos(alpha)*cos(i)*cos(psi)*cos(sigma) - sin(i)*sin(iota)*cos(d) - cos(i)*cos(iota)"
      ]
     },
     "execution_count": 65,
     "metadata": {},
     "output_type": "execute_result"
    }
   ],
   "source": [
    "G = e_frame(Gu)\n",
    "((g + p*s)^G) * I"
   ]
  },
  {
   "cell_type": "code",
   "execution_count": 66,
   "id": "f3297ebe",
   "metadata": {},
   "outputs": [
    {
     "data": {
      "text/latex": [
       "$\\displaystyle \\frac{\\sin{\\left (i \\right )} \\sin{\\left (\\iota  \\right )} \\cos{\\left (d \\right )} + \\cos{\\left (i \\right )} \\cos{\\left (\\iota  \\right )}}{\\sin{\\left (\\alpha  \\right )} \\sin{\\left (i \\right )} \\sin{\\left (\\theta  \\right )} \\cos{\\left (d \\right )} \\cos{\\left (\\sigma  \\right )} + \\sin{\\left (\\alpha  \\right )} \\cos{\\left (i \\right )} \\cos{\\left (\\sigma  \\right )} \\cos{\\left (\\theta  \\right )} - \\sin{\\left (d \\right )} \\sin{\\left (i \\right )} \\sin{\\left (\\psi  \\right )} \\cos{\\left (\\alpha  \\right )} \\cos{\\left (\\sigma  \\right )} + \\sin{\\left (d \\right )} \\sin{\\left (i \\right )} \\sin{\\left (\\sigma  \\right )} \\cos{\\left (\\psi  \\right )} + \\sin{\\left (i \\right )} \\sin{\\left (\\psi  \\right )} \\sin{\\left (\\sigma  \\right )} \\cos{\\left (d \\right )} \\cos{\\left (\\theta  \\right )} + \\sin{\\left (i \\right )} \\cos{\\left (\\alpha  \\right )} \\cos{\\left (d \\right )} \\cos{\\left (\\psi  \\right )} \\cos{\\left (\\sigma  \\right )} \\cos{\\left (\\theta  \\right )} - \\sin{\\left (\\psi  \\right )} \\sin{\\left (\\sigma  \\right )} \\sin{\\left (\\theta  \\right )} \\cos{\\left (i \\right )} - \\sin{\\left (\\theta  \\right )} \\cos{\\left (\\alpha  \\right )} \\cos{\\left (i \\right )} \\cos{\\left (\\psi  \\right )} \\cos{\\left (\\sigma  \\right )}}$"
      ],
      "text/plain": [
       "(sin(i)*sin(iota)*cos(d) + cos(i)*cos(iota))/(sin(alpha)*sin(i)*sin(theta)*cos(d)*cos(sigma) + sin(alpha)*cos(i)*cos(sigma)*cos(theta) - sin(d)*sin(i)*sin(psi)*cos(alpha)*cos(sigma) + sin(d)*sin(i)*sin(sigma)*cos(psi) + sin(i)*sin(psi)*sin(sigma)*cos(d)*cos(theta) + sin(i)*cos(alpha)*cos(d)*cos(psi)*cos(sigma)*cos(theta) - sin(psi)*sin(sigma)*sin(theta)*cos(i) - sin(theta)*cos(alpha)*cos(i)*cos(psi)*cos(sigma))"
      ]
     },
     "execution_count": 66,
     "metadata": {},
     "output_type": "execute_result"
    }
   ],
   "source": [
    "p_soln = sp.solve(sp.trigsimp(_.obj), p)[0]\n",
    "p_soln"
   ]
  },
  {
   "cell_type": "markdown",
   "id": "870209ac",
   "metadata": {},
   "source": [
    "We can write this is in terms of the hour angle $\\mu$ evaluated under the condition $\\iota = \\theta$ and denoted $\\mu_s$. This is true when the gnomon is parallel to the earth's axis, and termed a style, hence the subscript $s$."
   ]
  },
  {
   "cell_type": "code",
   "execution_count": 67,
   "id": "5de656b5",
   "metadata": {},
   "outputs": [
    {
     "data": {
      "text/latex": [
       "$\\displaystyle \\left(\\left(\\sin{\\left (i \\right )} \\cos{\\left (d \\right )} \\cos{\\left (\\theta  \\right )} - \\sin{\\left (\\theta  \\right )} \\cos{\\left (i \\right )}\\right) \\cos{\\left (\\mu_{s} \\right )} - \\sin{\\left (\\mu_{s} \\right )} \\sin{\\left (d \\right )} \\sin{\\left (i \\right )}\\right) \\sin{\\left (\\Xi \\right )} + \\left(\\sin{\\left (i \\right )} \\sin{\\left (\\theta  \\right )} \\cos{\\left (d \\right )} + \\cos{\\left (i \\right )} \\cos{\\left (\\theta  \\right )}\\right) \\sin{\\left (\\alpha  \\right )} \\cos{\\left (\\sigma  \\right )}$"
      ],
      "text/plain": [
       "((sin(i)*cos(d)*cos(theta) - sin(theta)*cos(i))*cos(\\mu_s) - sin(\\mu_s)*sin(d)*sin(i))*sin(\\Xi) + (sin(i)*sin(theta)*cos(d) + cos(i)*cos(theta))*sin(alpha)*cos(sigma)"
      ]
     },
     "execution_count": 67,
     "metadata": {},
     "output_type": "execute_result"
    }
   ],
   "source": [
    "mu_s = sp.Symbol(r\"\\mu_s\")\n",
    "D_soln = sin(Xi) * ((sin(i)*cos(d)*cos(theta)-cos(i)*sin(theta)) * cos(mu_s) - sin(i)*sin(d)*sin(mu_s)) + sin(alpha)*cos(sigma)*( sin(i)*sin(theta)*cos(d) + cos(i)*cos(theta) )\n",
    "D_soln"
   ]
  },
  {
   "cell_type": "code",
   "execution_count": 68,
   "id": "1e72c927",
   "metadata": {},
   "outputs": [
    {
     "data": {
      "text/latex": [
       "$\\displaystyle 0$"
      ],
      "text/plain": [
       "0"
      ]
     },
     "execution_count": 68,
     "metadata": {},
     "output_type": "execute_result"
    }
   ],
   "source": [
    "# check\n",
    "sp.simplify(sp.denom(p_soln) - D_soln.subs(mu_s,mu).subs(sin(mu),sinXi_sin_mu/sin(Xi)).subs(cos(mu),sinXi_cos_mu/sin(Xi)).subs(iota,theta))"
   ]
  },
  {
   "cell_type": "markdown",
   "id": "24e31414",
   "metadata": {},
   "source": [
    "So given $p$, we have $w = g + ps$. However, it is a little cumbersome to work with and we can get $w$ in terms of $g$-$ps$-$w$ triangle directly by projecting $w$ onto $s$ and $g$ to give two equations we can solve for $p$ and $L$, the length of $w$. We have\n",
    "$$s\\cdot w = L\\cos(\\Xi-\\beta) = s\\cdot g + p\\, s\\cdot s = \\cos(\\Xi) + p$$\n",
    "and\n",
    "$$g\\cdot w = L\\cos(\\beta) = g\\cdot g + p g\\cdot s = 1 + p\\, \\cos(\\Xi)$$\n",
    "This yields two simultaneous equations for $p$ and $L$, with solutions\n",
    "$$p = \\frac{\\sin(\\beta)}{\\sin(\\Xi-\\beta)}$$\n",
    "and\n",
    "$$L = \\frac{\\sin(\\Xi)}{\\sin(\\Xi-\\beta)}$$\n",
    "First define $w$ on the $n$ basis"
   ]
  },
  {
   "cell_type": "code",
   "execution_count": 69,
   "id": "2cfd7a59",
   "metadata": {},
   "outputs": [
    {
     "data": {
      "text/latex": [
       "\\begin{equation*} w =  \\begin{aligned}[t]  & \\left ( p \\sin{\\left (\\alpha  \\right )} \\sin{\\left (\\theta  \\right )} \\cos{\\left (\\sigma  \\right )} + p \\sin{\\left (\\psi  \\right )} \\sin{\\left (\\sigma  \\right )} \\cos{\\left (\\theta  \\right )} + p \\cos{\\left (\\alpha  \\right )} \\cos{\\left (\\psi  \\right )} \\cos{\\left (\\sigma  \\right )} \\cos{\\left (\\theta  \\right )} - \\sin{\\left (\\iota  \\right )}\\right ) \\boldsymbol{u}_{1} \\\\  &  + p \\left(- \\sin{\\left (\\psi  \\right )} \\cos{\\left (\\alpha  \\right )} \\cos{\\left (\\sigma  \\right )} + \\sin{\\left (\\sigma  \\right )} \\cos{\\left (\\psi  \\right )}\\right) \\boldsymbol{u}_{2} \\\\  &  + \\left ( - p \\sin{\\left (\\alpha  \\right )} \\cos{\\left (\\sigma  \\right )} \\cos{\\left (\\theta  \\right )} + p \\sin{\\left (\\psi  \\right )} \\sin{\\left (\\sigma  \\right )} \\sin{\\left (\\theta  \\right )} + p \\sin{\\left (\\theta  \\right )} \\cos{\\left (\\alpha  \\right )} \\cos{\\left (\\psi  \\right )} \\cos{\\left (\\sigma  \\right )} + \\cos{\\left (\\iota  \\right )}\\right ) \\boldsymbol{u}_{3}  \\end{aligned}  \\end{equation*}"
      ],
      "text/plain": [
       "w =  (p*sin(alpha)*sin(theta)*cos(sigma) + p*sin(psi)*sin(sigma)*cos(theta) + p*cos(alpha)*cos(psi)*cos(sigma)*cos(theta) - sin(iota))*u_1\n",
       " + p*(-sin(psi)*cos(alpha)*cos(sigma) + sin(sigma)*cos(psi))*u_2\n",
       " + (-p*sin(alpha)*cos(sigma)*cos(theta) + p*sin(psi)*sin(sigma)*sin(theta) + p*sin(theta)*cos(alpha)*cos(psi)*cos(sigma) + cos(iota))*u_3"
      ]
     },
     "execution_count": 69,
     "metadata": {},
     "output_type": "execute_result"
    }
   ],
   "source": [
    "wu = gu + p*su\n",
    "wu.Fmt(3, \"w\")"
   ]
  },
  {
   "cell_type": "markdown",
   "id": "3e8620c3",
   "metadata": {},
   "source": [
    "Then check that $p + \\cos(\\Xi)$ is equal to the projection of $w$ onto $s$"
   ]
  },
  {
   "cell_type": "code",
   "execution_count": 70,
   "id": "da8c548a",
   "metadata": {},
   "outputs": [
    {
     "data": {
      "text/latex": [
       "\\begin{equation*}  0  \\end{equation*}"
      ],
      "text/plain": [
       "0"
      ]
     },
     "execution_count": 70,
     "metadata": {},
     "output_type": "execute_result"
    }
   ],
   "source": [
    "(su|wu) - (p + cosXi)"
   ]
  },
  {
   "cell_type": "markdown",
   "id": "88b4ac72",
   "metadata": {},
   "source": [
    "Now check that $1 + p\\cos(\\Xi)$ is equal to the projection of $w$ onto $g$"
   ]
  },
  {
   "cell_type": "code",
   "execution_count": 71,
   "id": "b25e74c6",
   "metadata": {},
   "outputs": [
    {
     "data": {
      "text/latex": [
       "\\begin{equation*}  0  \\end{equation*}"
      ],
      "text/plain": [
       "0"
      ]
     },
     "execution_count": 71,
     "metadata": {},
     "output_type": "execute_result"
    }
   ],
   "source": [
    "(gu|wu) - (1 + p*cosXi)"
   ]
  },
  {
   "cell_type": "markdown",
   "id": "7748a1e7",
   "metadata": {},
   "source": [
    "Given that $\\sin(\\beta)$ appears in the solution for $p$, it will be useful to have its explicit form, which is"
   ]
  },
  {
   "cell_type": "code",
   "execution_count": 72,
   "id": "84e987de",
   "metadata": {},
   "outputs": [
    {
     "data": {
      "text/latex": [
       "$\\displaystyle \n",
       "        \\begin{equation}\n",
       "            \\sin(\\beta) = \\frac{\\sin{\\left (i \\right )} \\sin{\\left (\\iota  \\right )} \\cos{\\left (d \\right )} + \\cos{\\left (i \\right )} \\cos{\\left (\\iota  \\right )}}{\\sin{\\left (\\Psi \\right )}} \\nonumber\n",
       "        \\end{equation}\n",
       "        $"
      ],
      "text/plain": [
       "<IPython.core.display.Math object>"
      ]
     },
     "execution_count": 72,
     "metadata": {},
     "output_type": "execute_result"
    }
   ],
   "source": [
    "sin_beta = (sin(i)*sin(iota)*cos(d) + cos(i)*cos(iota))/sin(Psi)\n",
    "print_eq(r\"\\sin(\\beta)\", sin_beta)"
   ]
  },
  {
   "cell_type": "markdown",
   "id": "56ba7a84",
   "metadata": {},
   "source": [
    "Confirm this by checking that $\\sin^2(\\beta) + \\cos^2(\\beta) - 1 = 0$"
   ]
  },
  {
   "cell_type": "code",
   "execution_count": 73,
   "id": "009907f7",
   "metadata": {},
   "outputs": [
    {
     "data": {
      "text/latex": [
       "$\\displaystyle \n",
       "        \\begin{equation}\n",
       "            \\cos(\\beta) = \\frac{\\left(\\sin{\\left (i \\right )} \\cos{\\left (d \\right )} \\cos{\\left (\\iota  \\right )} - \\sin{\\left (\\iota  \\right )} \\cos{\\left (i \\right )}\\right) \\cos{\\left (\\mu  \\right )} - \\sin{\\left (d \\right )} \\sin{\\left (i \\right )} \\sin{\\left (\\mu  \\right )}}{\\sin{\\left (\\Psi \\right )}} \\nonumber\n",
       "        \\end{equation}\n",
       "        $"
      ],
      "text/plain": [
       "<IPython.core.display.Math object>"
      ]
     },
     "execution_count": 73,
     "metadata": {},
     "output_type": "execute_result"
    }
   ],
   "source": [
    "cos_beta = sp.collect(sp.trigsimp((gu|what).obj), cos(mu))\n",
    "print_eq(r\"\\cos(\\beta)\", cos_beta)"
   ]
  },
  {
   "cell_type": "code",
   "execution_count": 74,
   "id": "ba14c448",
   "metadata": {},
   "outputs": [
    {
     "data": {
      "text/latex": [
       "$\\displaystyle 0$"
      ],
      "text/plain": [
       "0"
      ]
     },
     "execution_count": 74,
     "metadata": {},
     "output_type": "execute_result"
    }
   ],
   "source": [
    "sp.trigsimp(sp.expand(sp.numer(sin_beta)**2 + sp.numer(cos_beta)**2) - (1-cosPsi**2))"
   ]
  },
  {
   "cell_type": "markdown",
   "id": "5dfcd768",
   "metadata": {},
   "source": [
    "Give $\\tan(\\beta)$ as in the paper"
   ]
  },
  {
   "cell_type": "code",
   "execution_count": 75,
   "id": "6d7deaed",
   "metadata": {},
   "outputs": [
    {
     "data": {
      "text/latex": [
       "$\\displaystyle \n",
       "        \\begin{equation}\n",
       "            \\tan(\\beta) = \\frac{\\sin{\\left (i \\right )} \\sin{\\left (\\iota  \\right )} \\cos{\\left (d \\right )} + \\cos{\\left (i \\right )} \\cos{\\left (\\iota  \\right )}}{\\left(\\sin{\\left (i \\right )} \\cos{\\left (d \\right )} \\cos{\\left (\\iota  \\right )} - \\sin{\\left (\\iota  \\right )} \\cos{\\left (i \\right )}\\right) \\cos{\\left (\\mu  \\right )} - \\sin{\\left (d \\right )} \\sin{\\left (i \\right )} \\sin{\\left (\\mu  \\right )}} \\nonumber\n",
       "        \\end{equation}\n",
       "        $"
      ],
      "text/plain": [
       "<IPython.core.display.Math object>"
      ]
     },
     "execution_count": 75,
     "metadata": {},
     "output_type": "execute_result"
    }
   ],
   "source": [
    "print_eq(r\"\\tan(\\beta)\", sin_beta/cos_beta)"
   ]
  },
  {
   "cell_type": "markdown",
   "id": "60195703",
   "metadata": {},
   "source": [
    "We can now use the form of $p$ found by solving $w\\wedge G = 0$ to obtain $\\sin(\\Xi)$. First note that $N$, the numerator of $p$, is related to $\\beta$ via\n",
    "$$\\sin(\\beta) = \\frac{N}{\\sin(\\Psi)}$$\n",
    "Check"
   ]
  },
  {
   "cell_type": "code",
   "execution_count": 76,
   "id": "58c1eb4f",
   "metadata": {},
   "outputs": [
    {
     "data": {
      "text/latex": [
       "$\\displaystyle 0$"
      ],
      "text/plain": [
       "0"
      ]
     },
     "execution_count": 76,
     "metadata": {},
     "output_type": "execute_result"
    }
   ],
   "source": [
    "sp.numer(p_soln)/sin(Psi) - sin_beta"
   ]
  },
  {
   "cell_type": "markdown",
   "id": "44279df7",
   "metadata": {},
   "source": [
    "Given our solution for $p$, we can write\n",
    "$$p = \\frac{\\sin(\\beta)}{\\sin(\\Xi-\\beta)} = \\frac{N}{D}$$\n",
    "Eliminating $N$ using the above relationship with $\\beta$ and solving for $D$ gives\n",
    "$$D = \\sin(\\Psi)\\sin(\\Xi-\\beta)$$\n",
    "Note that using this to eliminate $\\sin(\\Xi-\\beta)$ in our solution for $L$ gives\n",
    "$$L = \\frac{\\sin(\\Xi)\\sin(\\Psi)}{D}$$\n",
    "Expanding the double angle in $D$ and solving for $\\sin(\\Xi)$ gives\n",
    "$$\\sin(\\Xi) = \\frac{D + N\\cos(\\Xi)}{B}$$\n",
    "where\n",
    "$$\\cos(\\beta) = \\frac{B}{\\sin(\\Psi)}$$\n",
    "Thus"
   ]
  },
  {
   "cell_type": "code",
   "execution_count": 82,
   "id": "068cea8c",
   "metadata": {},
   "outputs": [
    {
     "data": {
      "text/latex": [
       "$\\displaystyle \n",
       "        \\begin{equation}\n",
       "            \\sin(\\Xi) = \\frac{\\left(\\sin{\\left (i \\right )} \\sin{\\left (\\iota  \\right )} \\cos{\\left (d \\right )} + \\cos{\\left (i \\right )} \\cos{\\left (\\iota  \\right )}\\right) \\cos{\\left (\\Xi \\right )} + \\sin{\\left (\\alpha  \\right )} \\sin{\\left (i \\right )} \\sin{\\left (\\theta  \\right )} \\cos{\\left (d \\right )} \\cos{\\left (\\sigma  \\right )} + \\sin{\\left (\\alpha  \\right )} \\cos{\\left (i \\right )} \\cos{\\left (\\sigma  \\right )} \\cos{\\left (\\theta  \\right )} - \\sin{\\left (d \\right )} \\sin{\\left (i \\right )} \\sin{\\left (\\psi  \\right )} \\cos{\\left (\\alpha  \\right )} \\cos{\\left (\\sigma  \\right )} + \\sin{\\left (d \\right )} \\sin{\\left (i \\right )} \\sin{\\left (\\sigma  \\right )} \\cos{\\left (\\psi  \\right )} + \\sin{\\left (i \\right )} \\sin{\\left (\\psi  \\right )} \\sin{\\left (\\sigma  \\right )} \\cos{\\left (d \\right )} \\cos{\\left (\\theta  \\right )} + \\sin{\\left (i \\right )} \\cos{\\left (\\alpha  \\right )} \\cos{\\left (d \\right )} \\cos{\\left (\\psi  \\right )} \\cos{\\left (\\sigma  \\right )} \\cos{\\left (\\theta  \\right )} - \\sin{\\left (\\psi  \\right )} \\sin{\\left (\\sigma  \\right )} \\sin{\\left (\\theta  \\right )} \\cos{\\left (i \\right )} - \\sin{\\left (\\theta  \\right )} \\cos{\\left (\\alpha  \\right )} \\cos{\\left (i \\right )} \\cos{\\left (\\psi  \\right )} \\cos{\\left (\\sigma  \\right )}}{\\left(\\sin{\\left (i \\right )} \\cos{\\left (d \\right )} \\cos{\\left (\\iota  \\right )} - \\sin{\\left (\\iota  \\right )} \\cos{\\left (i \\right )}\\right) \\cos{\\left (\\mu  \\right )} - \\sin{\\left (d \\right )} \\sin{\\left (i \\right )} \\sin{\\left (\\mu  \\right )}} \\nonumber\n",
       "        \\end{equation}\n",
       "        $"
      ],
      "text/plain": [
       "<IPython.core.display.Math object>"
      ]
     },
     "execution_count": 82,
     "metadata": {},
     "output_type": "execute_result"
    }
   ],
   "source": [
    "tmp = (sp.denom(p_soln) + sin(beta)*sin(Psi)*cos(Xi))/(cos(beta)*sin(Psi))\n",
    "sinXi = tmp.subs(sin(beta),sin_beta).subs(cos(beta),cos_beta)\n",
    "print_eq( r\"\\sin(\\Xi)\", sinXi)"
   ]
  },
  {
   "cell_type": "markdown",
   "id": "502b4802",
   "metadata": {},
   "source": [
    "### The Shadow Coordinates\n",
    "\n",
    "Not very exciting. Let's now get the cartesian coordinates of the shadow tip in the dial face frame.\n",
    "$$w = L \\hat{w}$$\n",
    "and so can work with $\\hat{w}$ and scale up by after."
   ]
  },
  {
   "cell_type": "code",
   "execution_count": 79,
   "id": "68f74575",
   "metadata": {},
   "outputs": [
    {
     "data": {
      "text/latex": [
       "\\begin{equation*} \\frac{x}{L} = \\frac{- \\sin{\\left (d \\right )} \\sin{\\left (\\mu  \\right )} \\cos{\\left (\\iota  \\right )} + \\cos{\\left (d \\right )} \\cos{\\left (\\mu  \\right )}}{\\sin{\\left (\\Psi \\right )}} \\end{equation*}"
      ],
      "text/plain": [
       "\\frac{x}{L} = (-sin(d)*sin(mu)*cos(iota) + cos(d)*cos(mu))/sin(\\Psi)"
      ]
     },
     "execution_count": 79,
     "metadata": {},
     "output_type": "execute_result"
    }
   ],
   "source": [
    "(what|m1).Fmt(1, r\"\\frac{x}{L}\")"
   ]
  },
  {
   "cell_type": "code",
   "execution_count": 80,
   "id": "71576b44",
   "metadata": {},
   "outputs": [
    {
     "data": {
      "text/latex": [
       "\\begin{equation*} \\frac{y}{L} = - \\frac{\\sin{\\left (d \\right )} \\cos{\\left (i \\right )} \\cos{\\left (\\mu  \\right )} + \\sin{\\left (i \\right )} \\sin{\\left (\\iota  \\right )} \\sin{\\left (\\mu  \\right )} + \\sin{\\left (\\mu  \\right )} \\cos{\\left (d \\right )} \\cos{\\left (i \\right )} \\cos{\\left (\\iota  \\right )}}{\\sin{\\left (\\Psi \\right )}} \\end{equation*}"
      ],
      "text/plain": [
       "\\frac{y}{L} = -(sin(d)*cos(i)*cos(mu) + sin(i)*sin(iota)*sin(mu) + sin(mu)*cos(d)*cos(i)*cos(iota))/sin(\\Psi)"
      ]
     },
     "execution_count": 80,
     "metadata": {},
     "output_type": "execute_result"
    }
   ],
   "source": [
    "mv.Mv(sp.trigsimp(sp.expand_trig((what|m2).obj)), ga=G3u).Fmt(1, r\"\\frac{y}{L}\")"
   ]
  },
  {
   "cell_type": "code",
   "execution_count": 81,
   "id": "8beae7a8",
   "metadata": {},
   "outputs": [
    {
     "data": {
      "text/latex": [
       "\\begin{equation*} \\frac{z}{L} =  0  \\end{equation*}"
      ],
      "text/plain": [
       "\\frac{z}{L} = 0"
      ]
     },
     "execution_count": 81,
     "metadata": {},
     "output_type": "execute_result"
    }
   ],
   "source": [
    "(what|m3).Fmt(1, r\"\\frac{z}{L}\")"
   ]
  }
 ],
 "metadata": {
  "kernelspec": {
   "display_name": "venv",
   "language": "python",
   "name": "python3"
  },
  "language_info": {
   "codemirror_mode": {
    "name": "ipython",
    "version": 3
   },
   "file_extension": ".py",
   "mimetype": "text/x-python",
   "name": "python",
   "nbconvert_exporter": "python",
   "pygments_lexer": "ipython3",
   "version": "3.9.6"
  }
 },
 "nbformat": 4,
 "nbformat_minor": 5
}
